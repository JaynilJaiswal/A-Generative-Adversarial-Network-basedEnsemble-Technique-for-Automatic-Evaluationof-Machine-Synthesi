{
  "nbformat": 4,
  "nbformat_minor": 0,
  "metadata": {
    "colab": {
      "name": "modified.ipynb",
      "version": "0.3.2",
      "provenance": [],
      "collapsed_sections": [],
      "toc_visible": true
    },
    "kernelspec": {
      "name": "python3",
      "display_name": "Python 3"
    },
    "accelerator": "TPU"
  },
  "cells": [
    {
      "cell_type": "markdown",
      "metadata": {
        "id": "Za124iWvdMsZ",
        "colab_type": "text"
      },
      "source": [
        "#DeepVoice3: Single-speaker text-to-speech demo\n",
        "\n",
        "In this notebook, you can try DeepVoice3-based single-speaker text-to-speech (en) using a model trained on [LJSpeech dataset](https://keithito.com/LJ-Speech-Dataset/). The notebook is supposed to be executed on [Google colab](https://colab.research.google.com) so you don't have to setup your machines locally.\n",
        "\n",
        "**Estimated time to complete**: 5 miniutes.\n",
        "\n",
        "- Code: https://github.com/r9y9/deepvoice3_pytorch\n",
        "- Audio samples: https://r9y9.github.io/deepvoice3_pytorch/"
      ]
    },
    {
      "cell_type": "markdown",
      "metadata": {
        "colab_type": "text",
        "id": "wnv-5uqeHwJ7"
      },
      "source": [
        "## Setup"
      ]
    },
    {
      "cell_type": "markdown",
      "metadata": {
        "id": "QjindPTItq75",
        "colab_type": "text"
      },
      "source": [
        "### Install dependencies"
      ]
    },
    {
      "cell_type": "code",
      "metadata": {
        "id": "kemMMs6pg9Rv",
        "colab_type": "code",
        "colab": {}
      },
      "source": [
        "import os\n",
        "from os.path import exists, join, expanduser\n",
        "\n",
        "# Clone\n",
        "name = \"deepvoice3_pytorch\"\n",
        "if not exists(name):\n",
        "  ! git clone https://github.com/r9y9/$name"
      ],
      "execution_count": 0,
      "outputs": []
    },
    {
      "cell_type": "code",
      "metadata": {
        "id": "ntBxf7b6DCqT",
        "colab_type": "code",
        "outputId": "2b51495e-57ff-4e0b-88dc-e6962284c4ba",
        "colab": {
          "base_uri": "https://localhost:8080/",
          "height": 34
        }
      },
      "source": [
        "# Change working directory to the project dir \n",
        "%cd deepvoice3_pytorch/\n",
        "\n",
        "!git checkout 7a10ac6763eda92595e257543494b6a95f64229b --quiet\n",
        "\n",
        "# Install dependencices\n",
        "!pip install -q -e '.[bin]'"
      ],
      "execution_count": 2,
      "outputs": [
        {
          "output_type": "stream",
          "text": [
            "/content/deepvoice3_pytorch\n"
          ],
          "name": "stdout"
        }
      ]
    },
    {
      "cell_type": "code",
      "metadata": {
        "id": "X6VFmDe-ideo",
        "colab_type": "code",
        "outputId": "76eb0c1f-e96b-4bd1-8743-44a91d08c047",
        "colab": {
          "base_uri": "https://localhost:8080/",
          "height": 122
        }
      },
      "source": [
        "%pylab inline\n",
        "! pip install -q librosa nltk\n",
        "# !ln -sf /opt/bin/nvidia-smi /usr/bin/nvidia-smi\n",
        "# !pip install gputil\n",
        "# !pip install psutil\n",
        "# !pip install humanize\n",
        "\n",
        "\n",
        "import torch\n",
        "from PIL import Image\n",
        "import numpy as np\n",
        "import librosa\n",
        "import librosa.display\n",
        "import IPython\n",
        "from scipy.io import wavfile\n",
        "import random\n",
        "import pandas as pd\n",
        "from IPython.display import Audio\n",
        "# need this for English text processing frontend\n",
        "import nltk\n",
        "! python -m nltk.downloader cmudict"
      ],
      "execution_count": 3,
      "outputs": [
        {
          "output_type": "stream",
          "text": [
            "Populating the interactive namespace from numpy and matplotlib\n",
            "/usr/lib/python3.6/runpy.py:125: RuntimeWarning: 'nltk.downloader' found in sys.modules after import of package 'nltk', but prior to execution of 'nltk.downloader'; this may result in unpredictable behaviour\n",
            "  warn(RuntimeWarning(msg))\n",
            "[nltk_data] Downloading package cmudict to /root/nltk_data...\n",
            "[nltk_data]   Package cmudict is already up-to-date!\n"
          ],
          "name": "stdout"
        }
      ]
    },
    {
      "cell_type": "markdown",
      "metadata": {
        "id": "_l1Gd2SStt0E",
        "colab_type": "text"
      },
      "source": [
        "### Download a pre-trained model"
      ]
    },
    {
      "cell_type": "code",
      "metadata": {
        "id": "42Zwjr4UjNn_",
        "colab_type": "code",
        "colab": {}
      },
      "source": [
        "preset = \"20180505_deepvoice3_ljspeech.json\"\n",
        "checkpoint_path = \"20180505_deepvoice3_checkpoint_step000640000.pth\""
      ],
      "execution_count": 0,
      "outputs": []
    },
    {
      "cell_type": "code",
      "metadata": {
        "id": "45Wrp8INj6Xu",
        "colab_type": "code",
        "colab": {}
      },
      "source": [
        "if not exists(preset):\n",
        "  !curl -O -L \"https://www.dropbox.com/s/0ck82unm0bo0rxd/20180505_deepvoice3_ljspeech.json\"\n",
        "if not exists(checkpoint_path):\n",
        "  !curl -O -L \"https://www.dropbox.com/s/5ucl9remrwy5oeg/20180505_deepvoice3_checkpoint_step000640000.pth\""
      ],
      "execution_count": 0,
      "outputs": []
    },
    {
      "cell_type": "markdown",
      "metadata": {
        "id": "_yJ90ESZiT_S",
        "colab_type": "text"
      },
      "source": [
        "## Synthesis"
      ]
    },
    {
      "cell_type": "markdown",
      "metadata": {
        "id": "FUyhiJg03dj6",
        "colab_type": "text"
      },
      "source": [
        "### Setup hyper parameters"
      ]
    },
    {
      "cell_type": "code",
      "metadata": {
        "id": "E9sLuYgcnbZb",
        "colab_type": "code",
        "outputId": "37b1d874-f4c2-4428-f4ec-3d539a7d20a5",
        "colab": {
          "base_uri": "https://localhost:8080/",
          "height": 170
        }
      },
      "source": [
        "import hparams\n",
        "import json\n",
        "\n",
        "    \n",
        "# Load parameters from preset\n",
        "with open(preset) as f:\n",
        "  hparams.hparams.parse_json(f.read())\n",
        "  \n",
        "# Inject frontend text processor\n",
        "import synthesis\n",
        "import train\n",
        "from deepvoice3_pytorch import frontend\n",
        "synthesis._frontend = getattr(frontend, \"en\")\n",
        "train._frontend =  getattr(frontend, \"en\")\n",
        "\n",
        "# alisesa\n",
        "fs = hparams.hparams.sample_rate\n",
        "hop_length = hparams.hparams.hop_size"
      ],
      "execution_count": 6,
      "outputs": [
        {
          "output_type": "stream",
          "text": [
            "WARNING: Logging before flag parsing goes to stderr.\n",
            "W0704 15:46:43.172587 139816328099712 lazy_loader.py:50] \n",
            "The TensorFlow contrib module will not be included in TensorFlow 2.0.\n",
            "For more information, please see:\n",
            "  * https://github.com/tensorflow/community/blob/master/rfcs/20180907-contrib-sunset.md\n",
            "  * https://github.com/tensorflow/addons\n",
            "  * https://github.com/tensorflow/io (for I/O related ops)\n",
            "If you depend on functionality not listed there, please file an issue.\n",
            "\n"
          ],
          "name": "stderr"
        }
      ]
    },
    {
      "cell_type": "markdown",
      "metadata": {
        "id": "C4NOldY83wG1",
        "colab_type": "text"
      },
      "source": [
        "### Define utility functions"
      ]
    },
    {
      "cell_type": "code",
      "metadata": {
        "id": "xRbelGLjiSfA",
        "colab_type": "code",
        "colab": {}
      },
      "source": [
        "def read_wavfile(filename):\n",
        "    _, samples = wavfile.read(filename)\n",
        "    samples = samples.astype(np.float64)\n",
        "    #print(samples.shape)\n",
        "    return samples\n",
        "\n",
        "def get_spectrogram(samples): \n",
        "    # TODO - try out different ways:\n",
        "    # https://librosa.github.io/librosa/generated/librosa.display.specshow.html\n",
        "    D = librosa.amplitude_to_db(np.abs(librosa.stft(samples)), ref=np.max)\n",
        "    #print(D.shape)\n",
        "    return D\n",
        "  \n",
        "def plot_spectrogram(D,filename,display = False):    \n",
        "    # set display = True to display the graph\n",
        "    fig=plt.figure(figsize=(60,40))\n",
        "    plt.subplot(4, 2, 2)\n",
        "    librosa.display.specshow(D, y_axis='mel')\n",
        "    plt.axis('off')\n",
        "    plt.savefig('/content/gdrive/My Drive/Colab Notebooks/LJSpeech-1.1/spectrograms/'+filename +  '.jpg',bbox_inches='tight',transparent=True,pad_inches=0.0)\n",
        "    if not display:\n",
        "      plt.close(fig)\n",
        "    #plt.show()\n",
        "\n",
        "def tts(model, text, p=0, speaker_id=None, fast=True, figures=False, display=False):\n",
        "  from synthesis import tts as _tts\n",
        "  waveform, alignment, spectrogram, mel = _tts(model, text, p, speaker_id, fast)\n",
        "  D = get_spectrogram(waveform)\n",
        "  #print(D.shape)\n",
        "  if figures:\n",
        "      plot_spectrogram(D,text,display)\n",
        "      IPython.display.display(Audio(waveform, rate=fs))\n",
        "  return D\n",
        "   \n",
        "\n",
        "# def visualize(alignment, spectrogram):\n",
        "#   label_fontsize = 16\n",
        "#   figure(figsize=(16,16))\n",
        "\n",
        "#   subplot(2,1,1)\n",
        "#   imshow(alignment.T, aspect=\"auto\", origin=\"lower\", interpolation=None)\n",
        "#   xlabel(\"Decoder timestamp\", fontsize=label_fontsize)\n",
        "#   ylabel(\"Encoder timestamp\", fontsize=label_fontsize)\n",
        "#   colorbar()\n",
        "\n",
        "#   subplot(2,1,2)\n",
        "#   librosa.display.specshow(spectrogram.T, sr=fs, \n",
        "#                            hop_length=hop_length, x_axis=\"time\", y_axis=\"linear\")\n",
        "#   xlabel(\"Time\", fontsize=label_fontsize)\n",
        "#   ylabel(\"Hz\", fontsize=label_fontsize)\n",
        "#   tight_layout()\n",
        "#   colorbar()"
      ],
      "execution_count": 0,
      "outputs": []
    },
    {
      "cell_type": "markdown",
      "metadata": {
        "id": "m2jmbSD430Ws",
        "colab_type": "text"
      },
      "source": [
        "### Load the model checkpoint"
      ]
    },
    {
      "cell_type": "code",
      "metadata": {
        "id": "lr8pgqtYhvav",
        "colab_type": "code",
        "outputId": "e5493a22-3ccb-4af7-f1ab-e337d914d274",
        "colab": {
          "base_uri": "https://localhost:8080/",
          "height": 34
        }
      },
      "source": [
        "from train import build_model\n",
        "from train import restore_parts, load_checkpoint\n",
        "\n",
        "model = build_model()\n",
        "model = load_checkpoint(checkpoint_path, model, None, True)"
      ],
      "execution_count": 8,
      "outputs": [
        {
          "output_type": "stream",
          "text": [
            "Load checkpoint from: 20180505_deepvoice3_checkpoint_step000640000.pth\n"
          ],
          "name": "stdout"
        }
      ]
    },
    {
      "cell_type": "markdown",
      "metadata": {
        "id": "qoJwwH93mAIs",
        "colab_type": "text"
      },
      "source": [
        "## Training"
      ]
    },
    {
      "cell_type": "markdown",
      "metadata": {
        "colab_type": "text",
        "id": "1E_c9iz7gpO2"
      },
      "source": [
        "### Dataset"
      ]
    },
    {
      "cell_type": "code",
      "metadata": {
        "id": "IiPHpznpUQdv",
        "colab_type": "code",
        "outputId": "05d5b397-a14d-4c42-aaaa-76c253ba6d61",
        "colab": {
          "base_uri": "https://localhost:8080/",
          "height": 34
        }
      },
      "source": [
        "%cd /content"
      ],
      "execution_count": 9,
      "outputs": [
        {
          "output_type": "stream",
          "text": [
            "/content\n"
          ],
          "name": "stdout"
        }
      ]
    },
    {
      "cell_type": "code",
      "metadata": {
        "id": "jp07GsxqUYLl",
        "colab_type": "code",
        "outputId": "2e5ab9eb-9f5d-4e25-bab5-8ddefc1a5b48",
        "colab": {
          "base_uri": "https://localhost:8080/",
          "height": 34
        }
      },
      "source": [
        "from google.colab import drive\n",
        "drive.mount('/content/gdrive',force_remount=True)"
      ],
      "execution_count": 10,
      "outputs": [
        {
          "output_type": "stream",
          "text": [
            "Mounted at /content/gdrive\n"
          ],
          "name": "stdout"
        }
      ]
    },
    {
      "cell_type": "code",
      "metadata": {
        "id": "rT1Bm0dtkNwj",
        "colab_type": "code",
        "colab": {}
      },
      "source": [
        "# real_dataset = [] # List of file paths to LJSpeech .wav files.\n",
        "# for i in range(1,9):\n",
        "#   for filename in os.listdir('/content/gdrive/My Drive/Colab Notebooks/LJSpeech-1.1/wavs'+str(i)):\n",
        "#     real_dataset.append('/content/gdrive/My Drive/Colab Notebooks/LJSpeech-1.1/wavs'+str(i)+'/'+filename)\n",
        "# # random.shuffle(real_dataset)\n",
        "# real_dataset.sort()"
      ],
      "execution_count": 0,
      "outputs": []
    },
    {
      "cell_type": "code",
      "metadata": {
        "id": "E7WhMM1P30R1",
        "colab_type": "code",
        "colab": {}
      },
      "source": [
        "real_dataset=[]\n",
        "for filename in os.listdir('/content/gdrive/My Drive/Colab Notebooks/LJSpeech-1.1/wavs'):\n",
        "    real_dataset.append('/content/gdrive/My Drive/Colab Notebooks/LJSpeech-1.1/wavs/'+filename)\n",
        "# random.shuffle(real_dataset)\n",
        "real_dataset.sort()"
      ],
      "execution_count": 0,
      "outputs": []
    },
    {
      "cell_type": "code",
      "metadata": {
        "id": "6DEayOd-8Wdd",
        "colab_type": "code",
        "colab": {}
      },
      "source": [
        "# global df = pd.DataFrame()\n",
        "df = pd.read_csv('/content/gdrive/My Drive/Colab Notebooks/LJSpeech-1.1/metadata1.csv',sep='|')\n",
        "sentences = df[df.columns[1]]\n",
        "sentences = sentences.tolist()\n",
        "# print(sentences[:5])\n",
        "# sentences=sentences[1:]\n",
        "# #fake-dataset\n",
        "# print(sentences[:5])"
      ],
      "execution_count": 0,
      "outputs": []
    },
    {
      "cell_type": "markdown",
      "metadata": {
        "id": "NRtNOcLMGIki",
        "colab_type": "text"
      },
      "source": [
        "####Correction"
      ]
    },
    {
      "cell_type": "code",
      "metadata": {
        "id": "WCUo2JTapg_a",
        "colab_type": "code",
        "outputId": "45e7c0fb-efe9-45b2-bace-ad9b6da0c839",
        "colab": {
          "base_uri": "https://localhost:8080/",
          "height": 190
        }
      },
      "source": [
        "#for i in range(0,20):\n",
        "#   df =df.drop([0])\n",
        "#   df.to_csv('/content/gdrive/My Drive/Colab Notebooks/LJSpeech-1.1/metadata1.csv',sep='|',index=False)\n",
        "#   df=pd.read_csv('/content/gdrive/My Drive/Colab Notebooks/LJSpeech-1.1/metadata1.csv',sep='|')\n",
        "  print(df.head())\n",
        "  print(real_dataset[:5])"
      ],
      "execution_count": 14,
      "outputs": [
        {
          "output_type": "stream",
          "text": [
            "    file name  ...                                      Same sentence\n",
            "0  LJ004-0216  ...  The most noticeable of the improvements introd...\n",
            "1  LJ004-0217  ...  The old haphazard system, by which meat was is...\n",
            "2  LJ004-0218  ...  a week's allowance at a time, was abolished, a...\n",
            "3  LJ004-0219  ...  The diet was now ample. It consisted of a poun...\n",
            "4  LJ004-0220  ...  for breakfast a pint of gruel; for dinner half...\n",
            "\n",
            "[5 rows x 3 columns]\n",
            "['/content/gdrive/My Drive/Colab Notebooks/LJSpeech-1.1/wavs/LJ004-0216.wav', '/content/gdrive/My Drive/Colab Notebooks/LJSpeech-1.1/wavs/LJ004-0217.wav', '/content/gdrive/My Drive/Colab Notebooks/LJSpeech-1.1/wavs/LJ004-0218.wav', '/content/gdrive/My Drive/Colab Notebooks/LJSpeech-1.1/wavs/LJ004-0219.wav', '/content/gdrive/My Drive/Colab Notebooks/LJSpeech-1.1/wavs/LJ004-0220.wav']\n"
          ],
          "name": "stdout"
        }
      ]
    },
    {
      "cell_type": "code",
      "metadata": {
        "id": "BKt4bgkrN5Mz",
        "colab_type": "code",
        "colab": {}
      },
      "source": [
        "# # !rm /content/gdrive/My\\ Drive/Colab\\ Notebooks/LJSpeech-1.1/metadata.csv\n",
        "#  !cp /content/gdrive/My\\ Drive/LJSpeech-1.1/metadata1.csv  /content/gdrive/My\\ Drive/Colab\\ Notebooks/LJSpeech-1.1/metadata1.csv"
      ],
      "execution_count": 0,
      "outputs": []
    },
    {
      "cell_type": "code",
      "metadata": {
        "id": "z_t9DKZCG94J",
        "colab_type": "code",
        "colab": {}
      },
      "source": [
        "#  %cd /content/gdrive/My\\ Drive/LJSpeech-1.1/wavs1\n",
        "#  !cp -v LJ001-00* /content/gdrive/My\\ Drive/Colab\\ Notebooks/LJSpeech-1.1/wavs"
      ],
      "execution_count": 0,
      "outputs": []
    },
    {
      "cell_type": "code",
      "metadata": {
        "id": "IhiEpd3BPc_Q",
        "colab_type": "code",
        "colab": {}
      },
      "source": [
        "# !cp /content/gdrive/My Drive/Colab Notebooks/LJSpeech-1.1/wavs/LJ002-0081.wav /content/gdrive/My\\ Drive/Colab\\ Notebooks/LJSpeech-1.1/wavs/LJ002-0081.wav"
      ],
      "execution_count": 0,
      "outputs": []
    },
    {
      "cell_type": "code",
      "metadata": {
        "id": "dFcLrDpAHWIy",
        "colab_type": "code",
        "colab": {}
      },
      "source": [
        "# !rm /content/gdrive/My\\ Drive/Colab\\ Notebooks/generator.pth\n",
        "# !rm /content/gdrive/My\\ Drive/Colab\\ Notebooks/discriminator.pth"
      ],
      "execution_count": 0,
      "outputs": []
    },
    {
      "cell_type": "code",
      "metadata": {
        "id": "4XdMSiSLHjzT",
        "colab_type": "code",
        "outputId": "c62390cc-56d7-4eb8-a404-a78cf6b3c64e",
        "colab": {
          "base_uri": "https://localhost:8080/",
          "height": 68
        }
      },
      "source": [
        "print(real_dataset[0]==(\"/content/gdrive/My Drive/Colab Notebooks/LJSpeech-1.1/wavs/\"+str(df.iloc[0,:][0])+\".wav\"))\n",
        "print(str(real_dataset[0]))\n",
        "print(\"/content/gdrive/My Drive/Colab Notebooks/LJSpeech-1.1/wavs/\"+str(df.iloc[0,:][0])+\".wav\")"
      ],
      "execution_count": 19,
      "outputs": [
        {
          "output_type": "stream",
          "text": [
            "True\n",
            "/content/gdrive/My Drive/Colab Notebooks/LJSpeech-1.1/wavs/LJ004-0216.wav\n",
            "/content/gdrive/My Drive/Colab Notebooks/LJSpeech-1.1/wavs/LJ004-0216.wav\n"
          ],
          "name": "stdout"
        }
      ]
    },
    {
      "cell_type": "markdown",
      "metadata": {
        "id": "CcG5ddNAHrne",
        "colab_type": "text"
      },
      "source": [
        "### Get data"
      ]
    },
    {
      "cell_type": "code",
      "metadata": {
        "id": "BJVkZjMivDaa",
        "colab_type": "code",
        "colab": {}
      },
      "source": [
        "real_idx=0\n",
        "fake_idx=0\n",
        "width = 250 # Fixed width of the waveform to be given as input to the model - needs tuning"
      ],
      "execution_count": 0,
      "outputs": []
    },
    {
      "cell_type": "code",
      "metadata": {
        "id": "gjri0A-rlrj-",
        "colab_type": "code",
        "colab": {}
      },
      "source": [
        "def get_real():\n",
        "  \"\"\"Returns a REAL speech sample from the LJSpeech dataset as a PIL Image.\n",
        "     The width is fixed at 250 units - if changed, needs to be changed for both get_real() and get_fake() functions\"\"\"\n",
        "  global real_idx\n",
        "  waveform = read_wavfile(real_dataset[real_idx])\n",
        "  D = get_spectrogram(waveform)\n",
        "  if(D.shape[1]>=width):\n",
        "    plot_spectrogram(D[:,:width],'temp_real')\n",
        "#     spec_img = Image.open('/content/gdrive/My Drive/Colab Notebooks/LJSpeech-1.1/spectrograms/temp.jpg')\n",
        "#     return spec_img\n",
        "  else:\n",
        "    plot_spectrogram(D[:,:],'temp_real')\n",
        "\n",
        "  os.remove(real_dataset[real_idx])\n",
        "  real_idx += 1"
      ],
      "execution_count": 0,
      "outputs": []
    },
    {
      "cell_type": "code",
      "metadata": {
        "id": "hMEPrXL-n8SF",
        "colab_type": "code",
        "colab": {}
      },
      "source": [
        "def get_fake():\n",
        "  \"\"\"Returns a FAKE speech sample as a PIL Image by passing a random sentence from the LJSpeech dataset through DeepVoice3\n",
        "     The width is fixed at 250 units - if changed, needs to be changed for both get_real() and get_fake() functions\"\"\"\n",
        "  global fake_idx\n",
        "  D = tts(model,sentences[fake_idx])\n",
        "  fake_idx += 1\n",
        "  if(D.shape[1]>=width):\n",
        "    plot_spectrogram(D[:,:width],'tempfake')\n",
        "#     spec_img = Image.open('/content/gdrive/My Drive/Colab Notebooks/LJSpeech-1.1/spectrograms/temp.jpg')\n",
        "#     return spec_img\n",
        "  else:\n",
        "    plot_spectrogram(D[:,:],'tempfake')\n",
        "\n",
        "  df1 = pd.read_csv('/content/gdrive/My Drive/Colab Notebooks/LJSpeech-1.1/metadata1.csv',sep='|')\n",
        "\n",
        "  df1=df1.iloc[1:,:]\n",
        "  df1.to_csv('/content/gdrive/My Drive/Colab Notebooks/LJSpeech-1.1/metadata1.csv',sep='|',index=False)\n",
        " "
      ],
      "execution_count": 0,
      "outputs": []
    },
    {
      "cell_type": "code",
      "metadata": {
        "id": "tMqS1XxWmdyY",
        "colab_type": "code",
        "colab": {}
      },
      "source": [
        ""
      ],
      "execution_count": 0,
      "outputs": []
    },
    {
      "cell_type": "code",
      "metadata": {
        "id": "LX7YEi1jFfWB",
        "colab_type": "code",
        "colab": {}
      },
      "source": [
        "# df1 = pd.read_csv('/content/gdrive/My Drive/Colab Notebooks/LJSpeech-1.1/metadata.csv',sep='|')\n",
        "# sentences1 = df1[df1.columns[1]]\n",
        "# sentences1 = sentences1.tolist()\n",
        "# print(sentences1[:5])\n",
        "# df1 = df1.iloc[1:,:]\n",
        "# print(df1.head())\n",
        "# df1.to_csv('/content/gdrive/My Drive/Colab Notebooks/LJSpeech-1.1/metadata.csv',sep='|',index=False)\n",
        "# df2 = pd.read_csv('/content/gdrive/My Drive/Colab Notebooks/LJSpeech-1.1/metadata.csv',sep='|')\n",
        "# sentences2 = df2[df2.columns[2]]\n",
        "# sentences2 = sentences2.tolist()\n",
        "# print(sentences2[:5])\n"
      ],
      "execution_count": 0,
      "outputs": []
    },
    {
      "cell_type": "markdown",
      "metadata": {
        "id": "JCHzvei4OeH1",
        "colab_type": "text"
      },
      "source": [
        "### GAN Model"
      ]
    },
    {
      "cell_type": "code",
      "metadata": {
        "id": "iQ_zlDxLKdah",
        "colab_type": "code",
        "outputId": "8e82789c-e9b4-44f2-876a-df15ad3d64ce",
        "colab": {
          "base_uri": "https://localhost:8080/",
          "height": 51
        }
      },
      "source": [
        "from __future__ import print_function\n",
        "%matplotlib inline\n",
        "import argparse\n",
        "import os\n",
        "import random\n",
        "import torch\n",
        "import torch.nn as nn\n",
        "import torch.nn.parallel\n",
        "import torch.backends.cudnn as cudnn\n",
        "import torch.optim as optim\n",
        "import torch.utils.data\n",
        "import torchvision.datasets as dset\n",
        "import torchvision.transforms as transforms\n",
        "import torchvision.utils as vutils\n",
        "import numpy as np\n",
        "import matplotlib.pyplot as plt\n",
        "import matplotlib.animation as animation\n",
        "from IPython.display import HTML\n",
        "# import psutil\n",
        "# import humanize\n",
        "# import os\n",
        "# import GPUtil as GPU\n",
        "\n",
        "# GPUs = GPU.getGPUs()\n",
        "# # XXX: only one GPU on Colab and isn’t guaranteed\n",
        "# gpu = GPUs[0]\n",
        "\n",
        "# Set random seem for reproducibility\n",
        "manualSeed = 999\n",
        "#manualSeed = random.randint(1, 10000) # use if you want new results\n",
        "print(\"Random Seed: \", manualSeed)\n",
        "random.seed(manualSeed)\n",
        "torch.manual_seed(manualSeed)"
      ],
      "execution_count": 23,
      "outputs": [
        {
          "output_type": "stream",
          "text": [
            "Random Seed:  999\n"
          ],
          "name": "stdout"
        },
        {
          "output_type": "execute_result",
          "data": {
            "text/plain": [
              "<torch._C.Generator at 0x7f29187e3350>"
            ]
          },
          "metadata": {
            "tags": []
          },
          "execution_count": 23
        }
      ]
    },
    {
      "cell_type": "code",
      "metadata": {
        "id": "p1qxrmgdKCEe",
        "colab_type": "code",
        "colab": {}
      },
      "source": [
        "# Root directory for dataset\n",
        "dataroot = \"/content/gdrive/My Drive/Colab Notebooks/LJSpeech-1.1/\"\n",
        "\n",
        "# Number of workers for dataloader\n",
        "workers = 2\n",
        "\n",
        "# Batch size during training\n",
        "batch_size = 1\n",
        "\n",
        "# Spatial size of training images. All images will be resized to this\n",
        "#   size using a transformer.\n",
        "image_size = 64\n",
        "\n",
        "# Number of channels in the training images. For color images this is 3\n",
        "nc = 3\n",
        "\n",
        "# Size of z latent vector (i.e. size of generator input)\n",
        "nz = 100\n",
        "\n",
        "# Size of feature maps in generator\n",
        "ngf = 64\n",
        "\n",
        "# Size of feature maps in discriminator\n",
        "ndf = 64\n",
        "\n",
        "# Number of training epochs\n",
        "num_epochs = 1\n",
        "\n",
        "# Learning rate for optimizers\n",
        "lr = 0.0002\n",
        "\n",
        "# Beta1 hyperparam for Adam optimizers\n",
        "beta1 = 0.5\n",
        "\n",
        "# Number of GPUs available. Use 0 for CPU mode.\n",
        "ngpu = 1"
      ],
      "execution_count": 0,
      "outputs": []
    },
    {
      "cell_type": "code",
      "metadata": {
        "id": "lryXvpvGKBpp",
        "colab_type": "code",
        "colab": {}
      },
      "source": [
        "\n",
        "# Decide which device we want to run on\n",
        "device = torch.device(\"cuda:0\" if (torch.cuda.is_available() and ngpu > 0) else \"cpu\")\n"
      ],
      "execution_count": 0,
      "outputs": []
    },
    {
      "cell_type": "code",
      "metadata": {
        "id": "mOXPnDSCK1w1",
        "colab_type": "code",
        "colab": {}
      },
      "source": [
        "# custom weights initialization called on netG and netD\n",
        "def weights_init(m):\n",
        "    classname = m.__class__.__name__\n",
        "    if classname.find('Conv') != -1:\n",
        "        nn.init.normal_(m.weight.data, 0.0, 0.02)\n",
        "    elif classname.find('BatchNorm') != -1:\n",
        "        nn.init.normal_(m.weight.data, 1.0, 0.02)\n",
        "        nn.init.constant_(m.bias.data, 0)"
      ],
      "execution_count": 0,
      "outputs": []
    },
    {
      "cell_type": "code",
      "metadata": {
        "id": "1IQL8gfWK6xB",
        "colab_type": "code",
        "colab": {}
      },
      "source": [
        "# Generator Code\n",
        "\n",
        "class Generator(nn.Module):\n",
        "    def __init__(self, ngpu):\n",
        "        super(Generator, self).__init__()\n",
        "        self.ngpu = ngpu\n",
        "        self.main = nn.Sequential(\n",
        "            # input is Z, going into a convolution\n",
        "            nn.ConvTranspose2d( nz, ngf * 8, 4, 1, 0, bias=False),\n",
        "            nn.BatchNorm2d(ngf * 8),\n",
        "            nn.ReLU(True),\n",
        "            # state size. (ngf*8) x 4 x 4\n",
        "            nn.ConvTranspose2d(ngf * 8, ngf * 4, 4, 2, 1, bias=False),\n",
        "            nn.BatchNorm2d(ngf * 4),\n",
        "            nn.ReLU(True),\n",
        "            # state size. (ngf*4) x 8 x 8\n",
        "            nn.ConvTranspose2d( ngf * 4, ngf * 2, 4, 2, 1, bias=False),\n",
        "            nn.BatchNorm2d(ngf * 2),\n",
        "            nn.ReLU(True),\n",
        "            # state size. (ngf*2) x 16 x 16\n",
        "            nn.ConvTranspose2d( ngf * 2, ngf, 4, 2, 1, bias=False),\n",
        "            nn.BatchNorm2d(ngf),\n",
        "            nn.ReLU(True),\n",
        "            # state size. (ngf) x 32 x 32\n",
        "            nn.ConvTranspose2d( ngf, nc, 4, 2, 1, bias=False),\n",
        "            nn.Tanh()\n",
        "            # state size. (nc) x 64 x 64\n",
        "        )\n",
        "\n",
        "    def forward(self, input):\n",
        "        return self.main(input)"
      ],
      "execution_count": 0,
      "outputs": []
    },
    {
      "cell_type": "code",
      "metadata": {
        "id": "cxgzbPLlK6vO",
        "colab_type": "code",
        "outputId": "2450fc71-02af-4748-9a6b-3c54d0b62398",
        "colab": {
          "base_uri": "https://localhost:8080/",
          "height": 323
        }
      },
      "source": [
        "# Create the generator\n",
        "netG = Generator(ngpu).to(device)\n",
        "\n",
        "# Handle multi-gpu if desired\n",
        "if (device.type == 'cuda') and (ngpu > 1):\n",
        "    netG = nn.DataParallel(netG, list(range(ngpu)))\n",
        "\n",
        "# Apply the weights_init function to randomly initialize all weights\n",
        "#  to mean=0, stdev=0.2.\n",
        "netG.apply(weights_init)\n",
        "\n",
        "# Print the model\n",
        "print(netG)"
      ],
      "execution_count": 28,
      "outputs": [
        {
          "output_type": "stream",
          "text": [
            "Generator(\n",
            "  (main): Sequential(\n",
            "    (0): ConvTranspose2d(100, 512, kernel_size=(4, 4), stride=(1, 1), bias=False)\n",
            "    (1): BatchNorm2d(512, eps=1e-05, momentum=0.1, affine=True, track_running_stats=True)\n",
            "    (2): ReLU(inplace)\n",
            "    (3): ConvTranspose2d(512, 256, kernel_size=(4, 4), stride=(2, 2), padding=(1, 1), bias=False)\n",
            "    (4): BatchNorm2d(256, eps=1e-05, momentum=0.1, affine=True, track_running_stats=True)\n",
            "    (5): ReLU(inplace)\n",
            "    (6): ConvTranspose2d(256, 128, kernel_size=(4, 4), stride=(2, 2), padding=(1, 1), bias=False)\n",
            "    (7): BatchNorm2d(128, eps=1e-05, momentum=0.1, affine=True, track_running_stats=True)\n",
            "    (8): ReLU(inplace)\n",
            "    (9): ConvTranspose2d(128, 64, kernel_size=(4, 4), stride=(2, 2), padding=(1, 1), bias=False)\n",
            "    (10): BatchNorm2d(64, eps=1e-05, momentum=0.1, affine=True, track_running_stats=True)\n",
            "    (11): ReLU(inplace)\n",
            "    (12): ConvTranspose2d(64, 3, kernel_size=(4, 4), stride=(2, 2), padding=(1, 1), bias=False)\n",
            "    (13): Tanh()\n",
            "  )\n",
            ")\n"
          ],
          "name": "stdout"
        }
      ]
    },
    {
      "cell_type": "code",
      "metadata": {
        "id": "y7oaIhmvK6tC",
        "colab_type": "code",
        "colab": {}
      },
      "source": [
        "class Discriminator(nn.Module):\n",
        "    def __init__(self, ngpu):\n",
        "        super(Discriminator, self).__init__()\n",
        "        self.ngpu = ngpu\n",
        "        self.main = nn.Sequential(\n",
        "            # input is (nc) x 64 x 64\n",
        "            nn.Conv2d(nc, ndf, 4, 2, 1, bias=False),\n",
        "            nn.LeakyReLU(0.2, inplace=True),\n",
        "            # state size. (ndf) x 32 x 32\n",
        "            nn.Conv2d(ndf, ndf * 2, 4, 2, 1, bias=False),\n",
        "            nn.BatchNorm2d(ndf * 2),\n",
        "            nn.LeakyReLU(0.2, inplace=True),\n",
        "            # state size. (ndf*2) x 16 x 16\n",
        "            nn.Conv2d(ndf * 2, ndf * 4, 4, 2, 1, bias=False),\n",
        "            nn.BatchNorm2d(ndf * 4),\n",
        "            nn.LeakyReLU(0.2, inplace=True),\n",
        "            # state size. (ndf*4) x 8 x 8\n",
        "            nn.Conv2d(ndf * 4, ndf * 8, 4, 2, 1, bias=False),\n",
        "            nn.BatchNorm2d(ndf * 8),\n",
        "            nn.LeakyReLU(0.2, inplace=True),\n",
        "            # state size. (ndf*8) x 4 x 4\n",
        "            nn.Conv2d(ndf * 8, 1, 4, 1, 0, bias=False),\n",
        "            nn.Sigmoid()\n",
        "        )\n",
        "\n",
        "    def forward(self, input):\n",
        "        return self.main(input)"
      ],
      "execution_count": 0,
      "outputs": []
    },
    {
      "cell_type": "code",
      "metadata": {
        "id": "oKlBeXuzK6qm",
        "colab_type": "code",
        "outputId": "5b9e33bb-16e9-436d-dc1c-2ed1d96b0599",
        "colab": {
          "base_uri": "https://localhost:8080/",
          "height": 306
        }
      },
      "source": [
        "# Create the Discriminator\n",
        "netD = Discriminator(ngpu).to(device)\n",
        "\n",
        "# Handle multi-gpu if desired\n",
        "if (device.type == 'cuda') and (ngpu > 1):\n",
        "    netD = nn.DataParallel(netD, list(range(ngpu)))\n",
        "    \n",
        "# Apply the weights_init function to randomly initialize all weights\n",
        "#  to mean=0, stdev=0.2.\n",
        "netD.apply(weights_init)\n",
        "\n",
        "# Print the model\n",
        "print(netD)"
      ],
      "execution_count": 30,
      "outputs": [
        {
          "output_type": "stream",
          "text": [
            "Discriminator(\n",
            "  (main): Sequential(\n",
            "    (0): Conv2d(3, 64, kernel_size=(4, 4), stride=(2, 2), padding=(1, 1), bias=False)\n",
            "    (1): LeakyReLU(negative_slope=0.2, inplace)\n",
            "    (2): Conv2d(64, 128, kernel_size=(4, 4), stride=(2, 2), padding=(1, 1), bias=False)\n",
            "    (3): BatchNorm2d(128, eps=1e-05, momentum=0.1, affine=True, track_running_stats=True)\n",
            "    (4): LeakyReLU(negative_slope=0.2, inplace)\n",
            "    (5): Conv2d(128, 256, kernel_size=(4, 4), stride=(2, 2), padding=(1, 1), bias=False)\n",
            "    (6): BatchNorm2d(256, eps=1e-05, momentum=0.1, affine=True, track_running_stats=True)\n",
            "    (7): LeakyReLU(negative_slope=0.2, inplace)\n",
            "    (8): Conv2d(256, 512, kernel_size=(4, 4), stride=(2, 2), padding=(1, 1), bias=False)\n",
            "    (9): BatchNorm2d(512, eps=1e-05, momentum=0.1, affine=True, track_running_stats=True)\n",
            "    (10): LeakyReLU(negative_slope=0.2, inplace)\n",
            "    (11): Conv2d(512, 1, kernel_size=(4, 4), stride=(1, 1), bias=False)\n",
            "    (12): Sigmoid()\n",
            "  )\n",
            ")\n"
          ],
          "name": "stdout"
        }
      ]
    },
    {
      "cell_type": "code",
      "metadata": {
        "id": "KU4AV92LK6oQ",
        "colab_type": "code",
        "colab": {}
      },
      "source": [
        "criterion = nn.BCELoss()\n",
        "\n",
        "# Create batch of latent vectors that we will use to visualize\n",
        "#  the progression of the generator\n",
        "fixed_noise = torch.randn(64, nz, 1, 1, device=device)\n",
        "\n",
        "# Establish convention for real and fake labels during training\n",
        "real_label = 1\n",
        "fake_label = 0\n",
        "\n",
        "# Setup Adam optimizers for both G and D\n",
        "optimizerD = optim.Adam(netD.parameters(), lr=lr, betas=(beta1, 0.999))\n",
        "optimizerG = optim.Adam(netG.parameters(), lr=lr, betas=(beta1, 0.999))"
      ],
      "execution_count": 0,
      "outputs": []
    },
    {
      "cell_type": "code",
      "metadata": {
        "id": "Kruj3wQHzDOn",
        "colab_type": "code",
        "colab": {}
      },
      "source": [
        "# def printm():\n",
        "#  process = psutil.Process(os.getpid())\n",
        "#  print(\"Gen RAM Free: \" + humanize.naturalsize( psutil.virtual_memory().available ), \" | Proc size: \" + humanize.naturalsize( process.memory_info().rss))\n",
        "#  print(\"GPU RAM Free: {0:.0f}MB | Used: {1:.0f}MB | Util {2:3.0f}% | Total {3:.0f}MB\".format(gpu.memoryFree, gpu.memoryUsed, gpu.memoryUtil*100, gpu.memoryTotal))\n",
        "# printm() \n",
        "# print (gpu.memoryUtil*100)"
      ],
      "execution_count": 0,
      "outputs": []
    },
    {
      "cell_type": "code",
      "metadata": {
        "id": "BLEcw6KseyQv",
        "colab_type": "code",
        "outputId": "3cd36279-3d16-49c8-d1b7-cec864639d63",
        "colab": {
          "base_uri": "https://localhost:8080/",
          "height": 34
        }
      },
      "source": [
        "netG.load_state_dict(torch.load('/content/gdrive/My Drive/Colab Notebooks/generator.pth'))\n",
        "netD.load_state_dict(torch.load('/content/gdrive/My Drive/Colab Notebooks/discriminator.pth'))\n",
        "\n"
      ],
      "execution_count": 33,
      "outputs": [
        {
          "output_type": "execute_result",
          "data": {
            "text/plain": [
              "IncompatibleKeys(missing_keys=[], unexpected_keys=[])"
            ]
          },
          "metadata": {
            "tags": []
          },
          "execution_count": 33
        }
      ]
    },
    {
      "cell_type": "code",
      "metadata": {
        "id": "eXWNYK3MK6mA",
        "colab_type": "code",
        "outputId": "9f02f3c7-a4bc-4506-abf1-b148e902f4df",
        "colab": {
          "base_uri": "https://localhost:8080/",
          "height": 1000
        }
      },
      "source": [
        "# Training Loop\n",
        "\n",
        "# Lists to keep track of progress\n",
        "img_list = []\n",
        "G_losses = []\n",
        "D_losses = []\n",
        "iters = 0\n",
        "\n",
        "print(\"Starting Training Loop...\")\n",
        "# For each epoch\n",
        "for epoch in range(num_epochs):\n",
        "    dataset_size = min(len(sentences),len(real_dataset))\n",
        "    if ((real_dataset[real_idx]==(\"/content/gdrive/My Drive/Colab Notebooks/LJSpeech-1.1/wavs/\"+str(df.iloc[0,:][0])+\".wav\"))):\n",
        "\n",
        "      for c in range(0,dataset_size):\n",
        "        get_real()\n",
        "        get_fake()\n",
        "\n",
        "        # We can use an image folder dataset the way we have it setup.\n",
        "        # Create the dataset\n",
        "        dataset = dset.ImageFolder(root=dataroot,\n",
        "                                   transform=transforms.Compose([\n",
        "                                       transforms.Resize((image_size,image_size)),\n",
        "                                       transforms.ToTensor(),\n",
        "                                   ]))\n",
        "\n",
        "        # Create the dataloader\n",
        "        dataloader = torch.utils.data.DataLoader(dataset, batch_size=batch_size,\n",
        "                                                 shuffle=True, num_workers=workers)\n",
        "\n",
        "        # For each batch in the dataloader\n",
        "        for i,data in enumerate(dataloader,0):\n",
        "\n",
        "            ############################\n",
        "            # (1) Update D network: maximize log(D(x)) + log(1 - D(G(z)))\n",
        "            ###########################\n",
        "            ## Train with all-real batch\n",
        "          if i==0:         \n",
        "            netD.zero_grad()\n",
        "            # Format batch\n",
        "            real_cpu = data[0].to(device)\n",
        "            b_size = real_cpu.size(0)\n",
        "            #b_size = 10\n",
        "            label = torch.full((b_size,), real_label, device=device)\n",
        "            # Forward pass real batch through D\n",
        "            output = netD(real_cpu).view(-1)\n",
        "            # Calculate loss on all-real batch\n",
        "            errD_real = criterion(output, label)\n",
        "            # Calculate gradients for D in backward pass\n",
        "            errD_real.backward()\n",
        "            D_x = output.mean().item()\n",
        "\n",
        "          if (i==1):\n",
        "            print(data[0].shape)\n",
        "            ## Train with all-fake batch\n",
        "            # Generate batch of latent vectors\n",
        "            noise = torch.randn(b_size, nz, 1, 1, device=device)\n",
        "            # Generate fake image batch with G\n",
        "            fake_noise = netG(noise)\n",
        "            fake_deepvoice=data[0].to(device)\n",
        "            fake = fake_noise + fake_deepvoice\n",
        "            label.fill_(fake_label)\n",
        "            # Classify all fake batch with D\n",
        "            output = netD(fake.detach()).view(-1)\n",
        "            # Calculate D's loss on the all-fake batch\n",
        "            errD_fake = criterion(output, label)\n",
        "            # Calculate the gradients for this batch\n",
        "            errD_fake.backward()\n",
        "            D_G_z1 = output.mean().item()\n",
        "            # Add the gradients from the all-real and all-fake batches\n",
        "            errD = errD_real + errD_fake\n",
        "            # Update D\n",
        "            optimizerD.step()\n",
        "\n",
        "\n",
        "    #           state1 = {\n",
        "    #               'epoch': c,\n",
        "    #               'state_dict': netD.state_dict(),\n",
        "    #               'optimizer': optimizerD.state_dict(),\n",
        "    #           }\n",
        "            torch.save(netD.state_dict(),'/content/gdrive/My Drive/Colab Notebooks/discriminator.pth')\n",
        "\n",
        "\n",
        "\n",
        "              ############################\n",
        "              # (2) Update G network: maximize log(D(G(z)))\n",
        "              ###########################\n",
        "            netG.zero_grad()\n",
        "            label.fill_(real_label)  # fake labels are real for generator cost\n",
        "            # Since we just updated D, perform another forward pass of all-fake batch through D\n",
        "            output = netD(fake).view(-1)\n",
        "            # Calculate G's loss based on this output\n",
        "\n",
        "            errG = criterion(output, label)\n",
        "            # Calculate gradients for G\n",
        "            errG.backward()\n",
        "            D_G_z2 = output.mean().item()\n",
        "            # Update G\n",
        "            optimizerG.step()\n",
        "\n",
        "    #           state2 = {\n",
        "    #               'epoch': c,\n",
        "    #               'state_dict': netG.state_dict(),\n",
        "    #               'optimizer': optimizerG.state_dict(),\n",
        "    #           }\n",
        "            torch.save(netG.state_dict(),'/content/gdrive/My Drive/Colab Notebooks/generator.pth')\n",
        "\n",
        "\n",
        "\n",
        "            # Output training stats\n",
        "            print('[%d/%d][%d/%d]\\tLoss_D: %.4f\\tLoss_G: %.4f\\tD(x): %.4f\\tD(G(z)): %.4f / %.4f'\n",
        "                      % (c, dataset_size, i+1, len(dataloader),\n",
        "                         errD.item(), errG.item(), D_x, D_G_z1, D_G_z2))\n",
        "\n",
        "            # Save Losses for plotting later\n",
        "            G_losses.append(errG.item())\n",
        "            D_losses.append(errD.item())\n",
        "\n",
        "    #         if (gpu.memoryUtil*100==80):\n",
        "    #           os.system('pkill -i -f \"ipykernel_launcher\"')\n",
        "          # Check how the generator is doing by saving G's output on fixed_noise\n",
        "    #           if (iters % 500 == 0) or ((epoch == num_epochs-1) and (i == len(dataloader)-1)):\n",
        "    #               with torch.no_grad():\n",
        "    #                   fake = netG(fixed_noise).detach().cpu()\n",
        "    #               img_list.append(vutils.make_grid(fake, padding=2, normalize=True))\n",
        "\n",
        "    #           iters += 1\n"
      ],
      "execution_count": 34,
      "outputs": [
        {
          "output_type": "stream",
          "text": [
            "Starting Training Loop...\n"
          ],
          "name": "stdout"
        },
        {
          "output_type": "stream",
          "text": [
            "/usr/local/lib/python3.6/dist-packages/torch/nn/functional.py:1386: UserWarning: nn.functional.sigmoid is deprecated. Use torch.sigmoid instead.\n",
            "  warnings.warn(\"nn.functional.sigmoid is deprecated. Use torch.sigmoid instead.\")\n"
          ],
          "name": "stderr"
        },
        {
          "output_type": "stream",
          "text": [
            "torch.Size([1, 3, 64, 64])\n",
            "[0/12015][2/2]\tLoss_D: 1.2532\tLoss_G: 0.9573\tD(x): 0.5350\tD(G(z)): 0.4662 / 0.3839\n",
            "torch.Size([1, 3, 64, 64])\n",
            "[1/12015][2/2]\tLoss_D: 1.5729\tLoss_G: 0.3067\tD(x): 0.3982\tD(G(z)): 0.4791 / 0.7359\n",
            "torch.Size([1, 3, 64, 64])\n",
            "[2/12015][2/2]\tLoss_D: 1.4805\tLoss_G: 0.9422\tD(x): 0.7247\tD(G(z)): 0.6860 / 0.3898\n",
            "torch.Size([1, 3, 64, 64])\n",
            "[3/12015][2/2]\tLoss_D: 1.2493\tLoss_G: 1.3147\tD(x): 0.5679\tD(G(z)): 0.4952 / 0.2686\n",
            "torch.Size([1, 3, 64, 64])\n",
            "[4/12015][2/2]\tLoss_D: 1.6488\tLoss_G: 0.6970\tD(x): 0.2751\tD(G(z)): 0.3010 / 0.4981\n",
            "torch.Size([1, 3, 64, 64])\n",
            "[5/12015][2/2]\tLoss_D: 1.5143\tLoss_G: 0.4571\tD(x): 0.4472\tD(G(z)): 0.5082 / 0.6331\n",
            "torch.Size([1, 3, 64, 64])\n",
            "[6/12015][2/2]\tLoss_D: 1.4621\tLoss_G: 0.6529\tD(x): 0.5908\tD(G(z)): 0.6078 / 0.5205\n",
            "torch.Size([1, 3, 64, 64])\n",
            "[7/12015][2/2]\tLoss_D: 1.2188\tLoss_G: 0.9768\tD(x): 0.5709\tD(G(z)): 0.4823 / 0.3765\n",
            "torch.Size([1, 3, 64, 64])\n",
            "[8/12015][2/2]\tLoss_D: 1.2521\tLoss_G: 0.8152\tD(x): 0.4798\tD(G(z)): 0.4041 / 0.4426\n",
            "torch.Size([1, 3, 64, 64])\n",
            "[9/12015][2/2]\tLoss_D: 1.4906\tLoss_G: 0.6485\tD(x): 0.4785\tD(G(z)): 0.5293 / 0.5228\n",
            "torch.Size([1, 3, 64, 64])\n",
            "[10/12015][2/2]\tLoss_D: 1.5650\tLoss_G: 0.6947\tD(x): 0.4977\tD(G(z)): 0.5799 / 0.4992\n",
            "torch.Size([1, 3, 64, 64])\n",
            "[11/12015][2/2]\tLoss_D: 1.1515\tLoss_G: 0.9518\tD(x): 0.5629\tD(G(z)): 0.4383 / 0.3860\n",
            "torch.Size([1, 3, 64, 64])\n",
            "[12/12015][2/2]\tLoss_D: 1.6169\tLoss_G: 0.5620\tD(x): 0.3691\tD(G(z)): 0.4622 / 0.5701\n",
            "torch.Size([1, 3, 64, 64])\n",
            "[13/12015][2/2]\tLoss_D: 1.2369\tLoss_G: 0.7521\tD(x): 0.5815\tD(G(z)): 0.5008 / 0.4714\n",
            "torch.Size([1, 3, 64, 64])\n",
            "[14/12015][2/2]\tLoss_D: 1.4204\tLoss_G: 1.0831\tD(x): 0.6348\tD(G(z)): 0.6194 / 0.3386\n",
            "torch.Size([1, 3, 64, 64])\n",
            "[15/12015][2/2]\tLoss_D: 1.7141\tLoss_G: 0.6201\tD(x): 0.2848\tD(G(z)): 0.3676 / 0.5379\n",
            "torch.Size([1, 3, 64, 64])\n",
            "[16/12015][2/2]\tLoss_D: 1.5300\tLoss_G: 0.6317\tD(x): 0.5328\tD(G(z)): 0.5936 / 0.5317\n",
            "torch.Size([1, 3, 64, 64])\n",
            "[17/12015][2/2]\tLoss_D: 1.2916\tLoss_G: 0.8315\tD(x): 0.5414\tD(G(z)): 0.4924 / 0.4354\n",
            "torch.Size([1, 3, 64, 64])\n",
            "[18/12015][2/2]\tLoss_D: 1.4633\tLoss_G: 0.6729\tD(x): 0.4482\tD(G(z)): 0.4835 / 0.5102\n",
            "torch.Size([1, 3, 64, 64])\n",
            "[19/12015][2/2]\tLoss_D: 1.2419\tLoss_G: 0.8093\tD(x): 0.5617\tD(G(z)): 0.4858 / 0.4452\n",
            "torch.Size([1, 3, 64, 64])\n",
            "[20/12015][2/2]\tLoss_D: 1.3069\tLoss_G: 0.8166\tD(x): 0.5306\tD(G(z)): 0.4899 / 0.4419\n",
            "torch.Size([1, 3, 64, 64])\n",
            "[21/12015][2/2]\tLoss_D: 1.4597\tLoss_G: 0.6483\tD(x): 0.4378\tD(G(z)): 0.4693 / 0.5229\n",
            "torch.Size([1, 3, 64, 64])\n",
            "[22/12015][2/2]\tLoss_D: 1.5163\tLoss_G: 0.6504\tD(x): 0.4922\tD(G(z)): 0.5540 / 0.5218\n",
            "torch.Size([1, 3, 64, 64])\n",
            "[23/12015][2/2]\tLoss_D: 1.2453\tLoss_G: 0.9294\tD(x): 0.5934\tD(G(z)): 0.5149 / 0.3948\n",
            "torch.Size([1, 3, 64, 64])\n",
            "[24/12015][2/2]\tLoss_D: 1.5468\tLoss_G: 0.6203\tD(x): 0.3787\tD(G(z)): 0.4377 / 0.5378\n",
            "torch.Size([1, 3, 64, 64])\n",
            "[25/12015][2/2]\tLoss_D: 1.5166\tLoss_G: 0.5987\tD(x): 0.4874\tD(G(z)): 0.5498 / 0.5495\n",
            "torch.Size([1, 3, 64, 64])\n",
            "[26/12015][2/2]\tLoss_D: 1.2656\tLoss_G: 0.9184\tD(x): 0.5991\tD(G(z)): 0.5292 / 0.3992\n",
            "torch.Size([1, 3, 64, 64])\n",
            "[27/12015][2/2]\tLoss_D: 1.2971\tLoss_G: 0.8505\tD(x): 0.5038\tD(G(z)): 0.4575 / 0.4272\n",
            "torch.Size([1, 3, 64, 64])\n",
            "[28/12015][2/2]\tLoss_D: 1.4554\tLoss_G: 0.5546\tD(x): 0.4090\tD(G(z)): 0.4295 / 0.5743\n",
            "torch.Size([1, 3, 64, 64])\n",
            "[29/12015][2/2]\tLoss_D: 1.4457\tLoss_G: 0.7525\tD(x): 0.5895\tD(G(z)): 0.6004 / 0.4712\n",
            "torch.Size([1, 3, 64, 64])\n",
            "[30/12015][2/2]\tLoss_D: 1.4164\tLoss_G: 0.7697\tD(x): 0.4522\tD(G(z)): 0.4636 / 0.4631\n",
            "torch.Size([1, 3, 64, 64])\n",
            "[31/12015][2/2]\tLoss_D: 1.3501\tLoss_G: 0.7208\tD(x): 0.4888\tD(G(z)): 0.4697 / 0.4864\n",
            "torch.Size([1, 3, 64, 64])\n",
            "[32/12015][2/2]\tLoss_D: 1.5720\tLoss_G: 0.6196\tD(x): 0.4837\tD(G(z)): 0.5708 / 0.5381\n",
            "torch.Size([1, 3, 64, 64])\n",
            "[33/12015][2/2]\tLoss_D: 1.1429\tLoss_G: 1.0513\tD(x): 0.6227\tD(G(z)): 0.4879 / 0.3495\n",
            "torch.Size([1, 3, 64, 64])\n",
            "[34/12015][2/2]\tLoss_D: 1.7043\tLoss_G: 0.5490\tD(x): 0.3302\tD(G(z)): 0.4491 / 0.5775\n",
            "torch.Size([1, 3, 64, 64])\n",
            "[35/12015][2/2]\tLoss_D: 1.2107\tLoss_G: 0.8372\tD(x): 0.6232\tD(G(z)): 0.5218 / 0.4329\n",
            "torch.Size([1, 3, 64, 64])\n",
            "[36/12015][2/2]\tLoss_D: 1.2818\tLoss_G: 0.8855\tD(x): 0.5409\tD(G(z)): 0.4869 / 0.4125\n",
            "torch.Size([1, 3, 64, 64])\n",
            "[37/12015][2/2]\tLoss_D: 1.3489\tLoss_G: 0.6441\tD(x): 0.4289\tD(G(z)): 0.3949 / 0.5252\n",
            "torch.Size([1, 3, 64, 64])\n",
            "[38/12015][2/2]\tLoss_D: 1.2220\tLoss_G: 0.8189\tD(x): 0.6133\tD(G(z)): 0.5196 / 0.4409\n",
            "torch.Size([1, 3, 64, 64])\n",
            "[39/12015][2/2]\tLoss_D: 1.6246\tLoss_G: 0.7311\tD(x): 0.4544\tD(G(z)): 0.5664 / 0.4814\n",
            "torch.Size([1, 3, 64, 64])\n",
            "[40/12015][2/2]\tLoss_D: 1.2627\tLoss_G: 0.8857\tD(x): 0.5343\tD(G(z)): 0.4705 / 0.4124\n",
            "torch.Size([1, 3, 64, 64])\n",
            "[41/12015][2/2]\tLoss_D: 1.1235\tLoss_G: 0.8583\tD(x): 0.5343\tD(G(z)): 0.3914 / 0.4239\n",
            "torch.Size([1, 3, 64, 64])\n",
            "[42/12015][2/2]\tLoss_D: 1.5964\tLoss_G: 0.6575\tD(x): 0.4815\tD(G(z)): 0.5792 / 0.5181\n",
            "torch.Size([1, 3, 64, 64])\n",
            "[43/12015][2/2]\tLoss_D: 1.5886\tLoss_G: 0.5833\tD(x): 0.4087\tD(G(z)): 0.5004 / 0.5581\n",
            "torch.Size([1, 3, 64, 64])\n",
            "[44/12015][2/2]\tLoss_D: 1.7210\tLoss_G: 0.7430\tD(x): 0.4957\tD(G(z)): 0.6392 / 0.4757\n",
            "torch.Size([1, 3, 64, 64])\n",
            "[45/12015][2/2]\tLoss_D: 1.5108\tLoss_G: 0.6506\tD(x): 0.4155\tD(G(z)): 0.4688 / 0.5217\n",
            "torch.Size([1, 3, 64, 64])\n",
            "[46/12015][2/2]\tLoss_D: 1.5182\tLoss_G: 0.6570\tD(x): 0.4900\tD(G(z)): 0.5529 / 0.5184\n",
            "torch.Size([1, 3, 64, 64])\n",
            "[47/12015][2/2]\tLoss_D: 1.4689\tLoss_G: 0.9889\tD(x): 0.5761\tD(G(z)): 0.6004 / 0.3720\n",
            "torch.Size([1, 3, 64, 64])\n",
            "[48/12015][2/2]\tLoss_D: 1.4134\tLoss_G: 0.5640\tD(x): 0.3516\tD(G(z)): 0.3080 / 0.5690\n",
            "torch.Size([1, 3, 64, 64])\n",
            "[49/12015][2/2]\tLoss_D: 1.3162\tLoss_G: 0.7260\tD(x): 0.6271\tD(G(z)): 0.5724 / 0.4839\n",
            "torch.Size([1, 3, 64, 64])\n",
            "[50/12015][2/2]\tLoss_D: 1.2912\tLoss_G: 0.9078\tD(x): 0.5467\tD(G(z)): 0.4970 / 0.4034\n",
            "torch.Size([1, 3, 64, 64])\n",
            "[51/12015][2/2]\tLoss_D: 1.5549\tLoss_G: 0.5864\tD(x): 0.3824\tD(G(z)): 0.4477 / 0.5563\n"
          ],
          "name": "stdout"
        },
        {
          "output_type": "error",
          "ename": "RuntimeError",
          "evalue": "ignored",
          "traceback": [
            "\u001b[0;31m---------------------------------------------------------------------------\u001b[0m",
            "\u001b[0;31mRuntimeError\u001b[0m                              Traceback (most recent call last)",
            "\u001b[0;32m<ipython-input-34-7ea0a53e0469>\u001b[0m in \u001b[0;36m<module>\u001b[0;34m()\u001b[0m\n\u001b[1;32m     45\u001b[0m             \u001b[0merrD_real\u001b[0m \u001b[0;34m=\u001b[0m \u001b[0mcriterion\u001b[0m\u001b[0;34m(\u001b[0m\u001b[0moutput\u001b[0m\u001b[0;34m,\u001b[0m \u001b[0mlabel\u001b[0m\u001b[0;34m)\u001b[0m\u001b[0;34m\u001b[0m\u001b[0;34m\u001b[0m\u001b[0m\n\u001b[1;32m     46\u001b[0m             \u001b[0;31m# Calculate gradients for D in backward pass\u001b[0m\u001b[0;34m\u001b[0m\u001b[0;34m\u001b[0m\u001b[0;34m\u001b[0m\u001b[0m\n\u001b[0;32m---> 47\u001b[0;31m             \u001b[0merrD_real\u001b[0m\u001b[0;34m.\u001b[0m\u001b[0mbackward\u001b[0m\u001b[0;34m(\u001b[0m\u001b[0;34m)\u001b[0m\u001b[0;34m\u001b[0m\u001b[0;34m\u001b[0m\u001b[0m\n\u001b[0m\u001b[1;32m     48\u001b[0m             \u001b[0mD_x\u001b[0m \u001b[0;34m=\u001b[0m \u001b[0moutput\u001b[0m\u001b[0;34m.\u001b[0m\u001b[0mmean\u001b[0m\u001b[0;34m(\u001b[0m\u001b[0;34m)\u001b[0m\u001b[0;34m.\u001b[0m\u001b[0mitem\u001b[0m\u001b[0;34m(\u001b[0m\u001b[0;34m)\u001b[0m\u001b[0;34m\u001b[0m\u001b[0;34m\u001b[0m\u001b[0m\n\u001b[1;32m     49\u001b[0m \u001b[0;34m\u001b[0m\u001b[0m\n",
            "\u001b[0;32m/usr/local/lib/python3.6/dist-packages/torch/tensor.py\u001b[0m in \u001b[0;36mbackward\u001b[0;34m(self, gradient, retain_graph, create_graph)\u001b[0m\n\u001b[1;32m    105\u001b[0m                 \u001b[0mproducts\u001b[0m\u001b[0;34m.\u001b[0m \u001b[0mDefaults\u001b[0m \u001b[0mto\u001b[0m\u001b[0;31m \u001b[0m\u001b[0;31m`\u001b[0m\u001b[0;31m`\u001b[0m\u001b[0;32mFalse\u001b[0m\u001b[0;31m`\u001b[0m\u001b[0;31m`\u001b[0m\u001b[0;34m.\u001b[0m\u001b[0;34m\u001b[0m\u001b[0;34m\u001b[0m\u001b[0m\n\u001b[1;32m    106\u001b[0m         \"\"\"\n\u001b[0;32m--> 107\u001b[0;31m         \u001b[0mtorch\u001b[0m\u001b[0;34m.\u001b[0m\u001b[0mautograd\u001b[0m\u001b[0;34m.\u001b[0m\u001b[0mbackward\u001b[0m\u001b[0;34m(\u001b[0m\u001b[0mself\u001b[0m\u001b[0;34m,\u001b[0m \u001b[0mgradient\u001b[0m\u001b[0;34m,\u001b[0m \u001b[0mretain_graph\u001b[0m\u001b[0;34m,\u001b[0m \u001b[0mcreate_graph\u001b[0m\u001b[0;34m)\u001b[0m\u001b[0;34m\u001b[0m\u001b[0;34m\u001b[0m\u001b[0m\n\u001b[0m\u001b[1;32m    108\u001b[0m \u001b[0;34m\u001b[0m\u001b[0m\n\u001b[1;32m    109\u001b[0m     \u001b[0;32mdef\u001b[0m \u001b[0mregister_hook\u001b[0m\u001b[0;34m(\u001b[0m\u001b[0mself\u001b[0m\u001b[0;34m,\u001b[0m \u001b[0mhook\u001b[0m\u001b[0;34m)\u001b[0m\u001b[0;34m:\u001b[0m\u001b[0;34m\u001b[0m\u001b[0;34m\u001b[0m\u001b[0m\n",
            "\u001b[0;32m/usr/local/lib/python3.6/dist-packages/torch/autograd/__init__.py\u001b[0m in \u001b[0;36mbackward\u001b[0;34m(tensors, grad_tensors, retain_graph, create_graph, grad_variables)\u001b[0m\n\u001b[1;32m     91\u001b[0m     Variable._execution_engine.run_backward(\n\u001b[1;32m     92\u001b[0m         \u001b[0mtensors\u001b[0m\u001b[0;34m,\u001b[0m \u001b[0mgrad_tensors\u001b[0m\u001b[0;34m,\u001b[0m \u001b[0mretain_graph\u001b[0m\u001b[0;34m,\u001b[0m \u001b[0mcreate_graph\u001b[0m\u001b[0;34m,\u001b[0m\u001b[0;34m\u001b[0m\u001b[0;34m\u001b[0m\u001b[0m\n\u001b[0;32m---> 93\u001b[0;31m         allow_unreachable=True)  # allow_unreachable flag\n\u001b[0m\u001b[1;32m     94\u001b[0m \u001b[0;34m\u001b[0m\u001b[0m\n\u001b[1;32m     95\u001b[0m \u001b[0;34m\u001b[0m\u001b[0m\n",
            "\u001b[0;32m/usr/local/lib/python3.6/dist-packages/torch/utils/data/_utils/signal_handling.py\u001b[0m in \u001b[0;36mhandler\u001b[0;34m(signum, frame)\u001b[0m\n\u001b[1;32m     61\u001b[0m         \u001b[0;31m# This following call uses `waitid` with WNOHANG from C side. Therefore,\u001b[0m\u001b[0;34m\u001b[0m\u001b[0;34m\u001b[0m\u001b[0;34m\u001b[0m\u001b[0m\n\u001b[1;32m     62\u001b[0m         \u001b[0;31m# Python can still get and update the process status successfully.\u001b[0m\u001b[0;34m\u001b[0m\u001b[0;34m\u001b[0m\u001b[0;34m\u001b[0m\u001b[0m\n\u001b[0;32m---> 63\u001b[0;31m         \u001b[0m_error_if_any_worker_fails\u001b[0m\u001b[0;34m(\u001b[0m\u001b[0;34m)\u001b[0m\u001b[0;34m\u001b[0m\u001b[0;34m\u001b[0m\u001b[0m\n\u001b[0m\u001b[1;32m     64\u001b[0m         \u001b[0;32mif\u001b[0m \u001b[0mprevious_handler\u001b[0m \u001b[0;32mis\u001b[0m \u001b[0;32mnot\u001b[0m \u001b[0;32mNone\u001b[0m\u001b[0;34m:\u001b[0m\u001b[0;34m\u001b[0m\u001b[0;34m\u001b[0m\u001b[0m\n\u001b[1;32m     65\u001b[0m             \u001b[0mprevious_handler\u001b[0m\u001b[0;34m(\u001b[0m\u001b[0msignum\u001b[0m\u001b[0;34m,\u001b[0m \u001b[0mframe\u001b[0m\u001b[0;34m)\u001b[0m\u001b[0;34m\u001b[0m\u001b[0;34m\u001b[0m\u001b[0m\n",
            "\u001b[0;31mRuntimeError\u001b[0m: DataLoader worker (pid 2814) is killed by signal: Killed. "
          ]
        }
      ]
    },
    {
      "cell_type": "code",
      "metadata": {
        "id": "2UPSJd8kFTV5",
        "colab_type": "code",
        "colab": {}
      },
      "source": [
        "!ps aux | grep ipykernel_launcher"
      ],
      "execution_count": 0,
      "outputs": []
    },
    {
      "cell_type": "code",
      "metadata": {
        "id": "A8iUY_8CmAzN",
        "colab_type": "code",
        "colab": {}
      },
      "source": [
        "!pkill -f ipykernel_launcher"
      ],
      "execution_count": 0,
      "outputs": []
    },
    {
      "cell_type": "code",
      "metadata": {
        "id": "Lb1Cggutpc0V",
        "colab_type": "code",
        "colab": {}
      },
      "source": [
        ""
      ],
      "execution_count": 0,
      "outputs": []
    }
  ]
}