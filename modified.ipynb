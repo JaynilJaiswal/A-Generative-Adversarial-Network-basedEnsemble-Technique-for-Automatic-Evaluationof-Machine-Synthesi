{
  "nbformat": 4,
  "nbformat_minor": 0,
  "metadata": {
    "colab": {
      "name": "modified.ipynb",
      "version": "0.3.2",
      "provenance": [],
      "collapsed_sections": [
        "DOJ3miW63ywA",
        "r1gxl06XgzY5"
      ],
      "toc_visible": true
    },
    "kernelspec": {
      "name": "python3",
      "display_name": "Python 3"
    },
    "accelerator": "GPU"
  },
  "cells": [
    {
      "cell_type": "markdown",
      "metadata": {
        "id": "Za124iWvdMsZ",
        "colab_type": "text"
      },
      "source": [
        "#DeepVoice3: Single-speaker text-to-speech demo\n",
        "\n",
        "In this notebook, you can try DeepVoice3-based single-speaker text-to-speech (en) using a model trained on [LJSpeech dataset](https://keithito.com/LJ-Speech-Dataset/). The notebook is supposed to be executed on [Google colab](https://colab.research.google.com) so you don't have to setup your machines locally.\n",
        "\n",
        "**Estimated time to complete**: 5 miniutes.\n",
        "\n",
        "- Code: https://github.com/r9y9/deepvoice3_pytorch\n",
        "- Audio samples: https://r9y9.github.io/deepvoice3_pytorch/"
      ]
    },
    {
      "cell_type": "markdown",
      "metadata": {
        "colab_type": "text",
        "id": "wnv-5uqeHwJ7"
      },
      "source": [
        "## Setup"
      ]
    },
    {
      "cell_type": "markdown",
      "metadata": {
        "id": "QjindPTItq75",
        "colab_type": "text"
      },
      "source": [
        "### Install dependencies"
      ]
    },
    {
      "cell_type": "code",
      "metadata": {
        "id": "kemMMs6pg9Rv",
        "colab_type": "code",
        "colab": {}
      },
      "source": [
        "import os\n",
        "from os.path import exists, join, expanduser\n",
        "\n",
        "# Clone\n",
        "name = \"deepvoice3_pytorch\"\n",
        "if not exists(name):\n",
        "  ! git clone https://github.com/r9y9/$name"
      ],
      "execution_count": 0,
      "outputs": []
    },
    {
      "cell_type": "code",
      "metadata": {
        "id": "ntBxf7b6DCqT",
        "colab_type": "code",
        "outputId": "adb0bedf-b196-4c0d-d01d-72d7764e45ce",
        "colab": {
          "base_uri": "https://localhost:8080/",
          "height": 34
        }
      },
      "source": [
        "# Change working directory to the project dir \n",
        "%cd deepvoice3_pytorch/\n",
        "\n",
        "!git checkout 7a10ac6763eda92595e257543494b6a95f64229b --quiet\n",
        "\n",
        "# Install dependencices\n",
        "!pip install -q -e '.[bin]'"
      ],
      "execution_count": 2,
      "outputs": [
        {
          "output_type": "stream",
          "text": [
            "/content/deepvoice3_pytorch\n"
          ],
          "name": "stdout"
        }
      ]
    },
    {
      "cell_type": "code",
      "metadata": {
        "id": "X6VFmDe-ideo",
        "colab_type": "code",
        "outputId": "417aeb11-8b7d-4b89-f75d-deb44cd391d9",
        "colab": {
          "base_uri": "https://localhost:8080/",
          "height": 122
        }
      },
      "source": [
        "%pylab inline\n",
        "! pip install -q librosa nltk\n",
        "\n",
        "import torch\n",
        "from PIL import Image\n",
        "import numpy as np\n",
        "import librosa\n",
        "import librosa.display\n",
        "import IPython\n",
        "from scipy.io import wavfile\n",
        "import random\n",
        "import pandas as pd\n",
        "from IPython.display import Audio\n",
        "# need this for English text processing frontend\n",
        "import nltk\n",
        "! python -m nltk.downloader cmudict"
      ],
      "execution_count": 3,
      "outputs": [
        {
          "output_type": "stream",
          "text": [
            "Populating the interactive namespace from numpy and matplotlib\n",
            "/usr/lib/python3.6/runpy.py:125: RuntimeWarning: 'nltk.downloader' found in sys.modules after import of package 'nltk', but prior to execution of 'nltk.downloader'; this may result in unpredictable behaviour\n",
            "  warn(RuntimeWarning(msg))\n",
            "[nltk_data] Downloading package cmudict to /root/nltk_data...\n",
            "[nltk_data]   Package cmudict is already up-to-date!\n"
          ],
          "name": "stdout"
        }
      ]
    },
    {
      "cell_type": "markdown",
      "metadata": {
        "id": "_l1Gd2SStt0E",
        "colab_type": "text"
      },
      "source": [
        "### Download a pre-trained model"
      ]
    },
    {
      "cell_type": "code",
      "metadata": {
        "id": "42Zwjr4UjNn_",
        "colab_type": "code",
        "colab": {}
      },
      "source": [
        "preset = \"20180505_deepvoice3_ljspeech.json\"\n",
        "checkpoint_path = \"20180505_deepvoice3_checkpoint_step000640000.pth\""
      ],
      "execution_count": 0,
      "outputs": []
    },
    {
      "cell_type": "code",
      "metadata": {
        "id": "45Wrp8INj6Xu",
        "colab_type": "code",
        "colab": {}
      },
      "source": [
        "if not exists(preset):\n",
        "  !curl -O -L \"https://www.dropbox.com/s/0ck82unm0bo0rxd/20180505_deepvoice3_ljspeech.json\"\n",
        "if not exists(checkpoint_path):\n",
        "  !curl -O -L \"https://www.dropbox.com/s/5ucl9remrwy5oeg/20180505_deepvoice3_checkpoint_step000640000.pth\""
      ],
      "execution_count": 0,
      "outputs": []
    },
    {
      "cell_type": "markdown",
      "metadata": {
        "id": "_yJ90ESZiT_S",
        "colab_type": "text"
      },
      "source": [
        "## Synthesis"
      ]
    },
    {
      "cell_type": "markdown",
      "metadata": {
        "id": "FUyhiJg03dj6",
        "colab_type": "text"
      },
      "source": [
        "### Setup hyper parameters"
      ]
    },
    {
      "cell_type": "code",
      "metadata": {
        "id": "E9sLuYgcnbZb",
        "colab_type": "code",
        "outputId": "1d88eb6d-6434-40ac-91cd-fa44558424a8",
        "colab": {
          "base_uri": "https://localhost:8080/",
          "height": 170
        }
      },
      "source": [
        "import hparams\n",
        "import json\n",
        "\n",
        "    \n",
        "# Load parameters from preset\n",
        "with open(preset) as f:\n",
        "  hparams.hparams.parse_json(f.read())\n",
        "  \n",
        "# Inject frontend text processor\n",
        "import synthesis\n",
        "import train\n",
        "from deepvoice3_pytorch import frontend\n",
        "synthesis._frontend = getattr(frontend, \"en\")\n",
        "train._frontend =  getattr(frontend, \"en\")\n",
        "\n",
        "# alisesa\n",
        "fs = hparams.hparams.sample_rate\n",
        "hop_length = hparams.hparams.hop_size"
      ],
      "execution_count": 6,
      "outputs": [
        {
          "output_type": "stream",
          "text": [
            "WARNING: Logging before flag parsing goes to stderr.\n",
            "W0703 06:15:58.210398 140180663072640 lazy_loader.py:50] \n",
            "The TensorFlow contrib module will not be included in TensorFlow 2.0.\n",
            "For more information, please see:\n",
            "  * https://github.com/tensorflow/community/blob/master/rfcs/20180907-contrib-sunset.md\n",
            "  * https://github.com/tensorflow/addons\n",
            "  * https://github.com/tensorflow/io (for I/O related ops)\n",
            "If you depend on functionality not listed there, please file an issue.\n",
            "\n"
          ],
          "name": "stderr"
        }
      ]
    },
    {
      "cell_type": "markdown",
      "metadata": {
        "id": "C4NOldY83wG1",
        "colab_type": "text"
      },
      "source": [
        "### Define utility functions"
      ]
    },
    {
      "cell_type": "code",
      "metadata": {
        "id": "xRbelGLjiSfA",
        "colab_type": "code",
        "colab": {}
      },
      "source": [
        "def read_wavfile(filename):\n",
        "    _, samples = wavfile.read(filename)\n",
        "    samples = samples.astype(np.float64)\n",
        "    #print(samples.shape)\n",
        "    return samples\n",
        "\n",
        "def get_spectrogram(samples): \n",
        "    # TODO - try out different ways:\n",
        "    # https://librosa.github.io/librosa/generated/librosa.display.specshow.html\n",
        "    D = librosa.amplitude_to_db(np.abs(librosa.stft(samples)), ref=np.max)\n",
        "    #print(D.shape)\n",
        "    return D\n",
        "  \n",
        "def plot_spectrogram(D,filename,display = False):    \n",
        "    # set display = True to display the graph\n",
        "    fig=plt.figure(figsize=(60,40))\n",
        "    plt.subplot(4, 2, 2)\n",
        "    librosa.display.specshow(D, y_axis='mel')\n",
        "    plt.axis('off')\n",
        "    plt.savefig('/content/gdrive/My Drive/Colab Notebooks/LJSpeech-1.1/spectrograms/'+filename +  '.jpg',bbox_inches='tight',transparent=True,pad_inches=0.0)\n",
        "    if not display:\n",
        "      plt.close(fig)\n",
        "    #plt.show()\n",
        "\n",
        "def tts(model, text, p=0, speaker_id=None, fast=True, figures=False, display=False):\n",
        "  from synthesis import tts as _tts\n",
        "  waveform, alignment, spectrogram, mel = _tts(model, text, p, speaker_id, fast)\n",
        "  D = get_spectrogram(waveform)\n",
        "  #print(D.shape)\n",
        "  if figures:\n",
        "      plot_spectrogram(D,text,display)\n",
        "      IPython.display.display(Audio(waveform, rate=fs))\n",
        "  return D\n",
        "   \n",
        "\n",
        "# def visualize(alignment, spectrogram):\n",
        "#   label_fontsize = 16\n",
        "#   figure(figsize=(16,16))\n",
        "\n",
        "#   subplot(2,1,1)\n",
        "#   imshow(alignment.T, aspect=\"auto\", origin=\"lower\", interpolation=None)\n",
        "#   xlabel(\"Decoder timestamp\", fontsize=label_fontsize)\n",
        "#   ylabel(\"Encoder timestamp\", fontsize=label_fontsize)\n",
        "#   colorbar()\n",
        "\n",
        "#   subplot(2,1,2)\n",
        "#   librosa.display.specshow(spectrogram.T, sr=fs, \n",
        "#                            hop_length=hop_length, x_axis=\"time\", y_axis=\"linear\")\n",
        "#   xlabel(\"Time\", fontsize=label_fontsize)\n",
        "#   ylabel(\"Hz\", fontsize=label_fontsize)\n",
        "#   tight_layout()\n",
        "#   colorbar()"
      ],
      "execution_count": 0,
      "outputs": []
    },
    {
      "cell_type": "markdown",
      "metadata": {
        "id": "m2jmbSD430Ws",
        "colab_type": "text"
      },
      "source": [
        "### Load the model checkpoint"
      ]
    },
    {
      "cell_type": "code",
      "metadata": {
        "id": "lr8pgqtYhvav",
        "colab_type": "code",
        "outputId": "52079464-0f39-4cf8-d25f-f46995dd204c",
        "colab": {
          "base_uri": "https://localhost:8080/",
          "height": 34
        }
      },
      "source": [
        "from train import build_model\n",
        "from train import restore_parts, load_checkpoint\n",
        "\n",
        "model = build_model()\n",
        "model = load_checkpoint(checkpoint_path, model, None, True)"
      ],
      "execution_count": 8,
      "outputs": [
        {
          "output_type": "stream",
          "text": [
            "Load checkpoint from: 20180505_deepvoice3_checkpoint_step000640000.pth\n"
          ],
          "name": "stdout"
        }
      ]
    },
    {
      "cell_type": "markdown",
      "metadata": {
        "id": "DOJ3miW63ywA",
        "colab_type": "text"
      },
      "source": [
        "### Generate speech - DeepVoice"
      ]
    },
    {
      "cell_type": "code",
      "metadata": {
        "id": "GR1XRy-ykbz_",
        "colab_type": "code",
        "colab": {}
      },
      "source": [
        "# Try your favorite senteneces:)\n",
        "texts = [\n",
        "    \"Scientists at the CERN laboratory say they have discovered a new particle.\",\n",
        "    \"There's a way to measure the acute emotional intelligence that has never gone out of style.\",\n",
        "    \"President Trump met with other leaders at the Group of 20 conference.\",\n",
        "    \"The Senate's bill to repeal and replace the Affordable Care Act is now imperiled.\",\n",
        "    \"Generative adversarial network or variational auto-encoder.\",\n",
        "    \"The buses aren't the problem, they actually provide a solution.\",\n",
        "    \"peter piper picked a peck of pickled peppers how many peppers did peter piper pick.\",\n",
        "    \"Some have accepted this as a miracle without any physical explanation.\",\n",
        "]\n",
        "\n",
        "for idx, text in enumerate(texts):\n",
        "  print(idx, text)\n",
        "  tts(model, text, figures=True)"
      ],
      "execution_count": 0,
      "outputs": []
    },
    {
      "cell_type": "code",
      "metadata": {
        "id": "nirMEf2J5Roy",
        "colab_type": "code",
        "colab": {}
      },
      "source": [
        "# With display\n",
        "text = \"in being comparatively modern.\"\n",
        "tts(model, text, figures=True, display=True)"
      ],
      "execution_count": 0,
      "outputs": []
    },
    {
      "cell_type": "markdown",
      "metadata": {
        "id": "qoJwwH93mAIs",
        "colab_type": "text"
      },
      "source": [
        "## Training"
      ]
    },
    {
      "cell_type": "markdown",
      "metadata": {
        "colab_type": "text",
        "id": "1E_c9iz7gpO2"
      },
      "source": [
        "### Dataset"
      ]
    },
    {
      "cell_type": "code",
      "metadata": {
        "id": "IiPHpznpUQdv",
        "colab_type": "code",
        "colab": {}
      },
      "source": [
        "%cd /content"
      ],
      "execution_count": 0,
      "outputs": []
    },
    {
      "cell_type": "code",
      "metadata": {
        "id": "jp07GsxqUYLl",
        "colab_type": "code",
        "outputId": "7acc3c5d-75fa-4378-99fc-e1192a298d78",
        "colab": {
          "base_uri": "https://localhost:8080/",
          "height": 122
        }
      },
      "source": [
        "from google.colab import drive\n",
        "drive.mount('/content/gdrive',force_remount=True)"
      ],
      "execution_count": 2,
      "outputs": [
        {
          "output_type": "stream",
          "text": [
            "Go to this URL in a browser: https://accounts.google.com/o/oauth2/auth?client_id=947318989803-6bn6qk8qdgf4n4g3pfee6491hc0brc4i.apps.googleusercontent.com&redirect_uri=urn%3Aietf%3Awg%3Aoauth%3A2.0%3Aoob&scope=email%20https%3A%2F%2Fwww.googleapis.com%2Fauth%2Fdocs.test%20https%3A%2F%2Fwww.googleapis.com%2Fauth%2Fdrive%20https%3A%2F%2Fwww.googleapis.com%2Fauth%2Fdrive.photos.readonly%20https%3A%2F%2Fwww.googleapis.com%2Fauth%2Fpeopleapi.readonly&response_type=code\n",
            "\n",
            "Enter your authorization code:\n",
            "··········\n",
            "Mounted at /content/gdrive\n"
          ],
          "name": "stdout"
        }
      ]
    },
    {
      "cell_type": "code",
      "metadata": {
        "id": "rT1Bm0dtkNwj",
        "colab_type": "code",
        "colab": {}
      },
      "source": [
        "real_dataset = [] # List of file paths to LJSpeech .wav files.\n",
        "for i in range(1,9):\n",
        "  for filename in os.listdir('/content/gdrive/My Drive/Colab Notebooks/LJSpeech-1.1/wavs'+str(i)):\n",
        "    real_dataset.append('/content/gdrive/My Drive/Colab Notebooks/LJSpeech-1.1/wavs'+str(i)+'/'+filename)\n",
        "random.shuffle(real_dataset)"
      ],
      "execution_count": 0,
      "outputs": []
    },
    {
      "cell_type": "code",
      "metadata": {
        "id": "6DEayOd-8Wdd",
        "colab_type": "code",
        "colab": {}
      },
      "source": [
        "df = pd.read_csv('/content/gdrive/My Drive/Colab Notebooks/LJSpeech-1.1/metadata1.csv',sep='|')\n",
        "sentences = df[df.columns[1]]\n",
        "sentences = sentences.tolist()\n",
        "random.shuffle(sentences)\n",
        "#fake-dataset"
      ],
      "execution_count": 0,
      "outputs": []
    },
    {
      "cell_type": "code",
      "metadata": {
        "id": "BJVkZjMivDaa",
        "colab_type": "code",
        "colab": {}
      },
      "source": [
        "real_idx=0\n",
        "fake_idx=0\n",
        "width = 250 # Fixed width of the waveform to be given as input to the model - needs tuning"
      ],
      "execution_count": 0,
      "outputs": []
    },
    {
      "cell_type": "code",
      "metadata": {
        "id": "gjri0A-rlrj-",
        "colab_type": "code",
        "colab": {}
      },
      "source": [
        "def get_real():\n",
        "  \"\"\"Returns a REAL speech sample from the LJSpeech dataset as a PIL Image.\n",
        "     The width is fixed at 250 units - if changed, needs to be changed for both get_real() and get_fake() functions\"\"\"\n",
        "  global real_idx\n",
        "  waveform = read_wavfile(real_dataset[real_idx])\n",
        "  D = get_spectrogram(waveform)\n",
        "  real_idx += 1\n",
        "  if(D.shape[1]>=width):\n",
        "    plot_spectrogram(D[:,:width],'temp_real')\n",
        "#     spec_img = Image.open('/content/gdrive/My Drive/Colab Notebooks/LJSpeech-1.1/spectrograms/temp.jpg')\n",
        "#     return spec_img\n",
        "  else:\n",
        "    return get_real()"
      ],
      "execution_count": 0,
      "outputs": []
    },
    {
      "cell_type": "code",
      "metadata": {
        "id": "hMEPrXL-n8SF",
        "colab_type": "code",
        "colab": {}
      },
      "source": [
        "def get_fake():\n",
        "  \"\"\"Returns a FAKE speech sample as a PIL Image by passing a random sentence from the LJSpeech dataset through DeepVoice3\n",
        "     The width is fixed at 250 units - if changed, needs to be changed for both get_real() and get_fake() functions\"\"\"\n",
        "  global fake_idx\n",
        "  D = tts(model,sentences[fake_idx])\n",
        "  fake_idx += 1\n",
        "  if(D.shape[1]>=width):\n",
        "    plot_spectrogram(D[:,:width],'tempfake')\n",
        "#     spec_img = Image.open('/content/gdrive/My Drive/Colab Notebooks/LJSpeech-1.1/spectrograms/temp.jpg')\n",
        "#     return spec_img\n",
        "  else:\n",
        "    return get_fake()"
      ],
      "execution_count": 0,
      "outputs": []
    },
    {
      "cell_type": "markdown",
      "metadata": {
        "colab_type": "text",
        "id": "r1gxl06XgzY5"
      },
      "source": [
        "### Binary Classifier model"
      ]
    },
    {
      "cell_type": "code",
      "metadata": {
        "id": "iGc0BDule3ph",
        "colab_type": "code",
        "colab": {}
      },
      "source": [
        "NUM_EPOCHS = 1\n",
        "LR = 0.8*(1e-4)\n",
        "BATCH_SIZE = 4 #Keep this an even number\n",
        "GAMMA = 0.95\n",
        "curr_lr = LR"
      ],
      "execution_count": 0,
      "outputs": []
    },
    {
      "cell_type": "code",
      "metadata": {
        "id": "-QYPYomy6Acl",
        "colab_type": "code",
        "colab": {}
      },
      "source": [
        "import os\n",
        "os.environ['CUDA_LAUNCH_BLOCKING'] = \"1\""
      ],
      "execution_count": 0,
      "outputs": []
    },
    {
      "cell_type": "code",
      "metadata": {
        "id": "Cr1QpDfhg2vM",
        "colab_type": "code",
        "colab": {}
      },
      "source": [
        "import random\n",
        "import torch\n",
        "import torchvision\n",
        "import torchvision.transforms as transforms\n",
        "import torchvision.datasets\n",
        "import torchvision.models as models\n",
        "import torch.nn as nn\n",
        "import torch.nn.functional as F\n",
        "import torch.optim as optim"
      ],
      "execution_count": 0,
      "outputs": []
    },
    {
      "cell_type": "code",
      "metadata": {
        "id": "J5jK8jTBeG5S",
        "colab_type": "code",
        "colab": {}
      },
      "source": [
        "#Specific to ResNet\n",
        "tfms = transforms.Compose([transforms.Resize((224,224)),transforms.transforms.ToTensor(), transforms.Normalize(mean=[0.485, 0.456, 0.406],std=[0.229, 0.224, 0.225])])\n",
        "\n",
        "class Flatten(nn.Module):\n",
        "    def forward(self, input):\n",
        "        return input.view(input.size(0), -1)\n",
        "      \n",
        "BClassifier = models.resnet34(pretrained=True)\n",
        "\n",
        "BClassifier = nn.Sequential(*list(BClassifier.children())[:-2],\n",
        "                     nn.Conv2d(512, 1, 3, 1),\n",
        "                     nn.AdaptiveAvgPool2d(1), Flatten(),\n",
        "                     nn.LogSoftmax())"
      ],
      "execution_count": 0,
      "outputs": []
    },
    {
      "cell_type": "code",
      "metadata": {
        "id": "5yLhUPKyFVQh",
        "colab_type": "code",
        "colab": {}
      },
      "source": [
        "#Freezing early layers\n",
        "count = 1\n",
        "for param in BClassifier.parameters():\n",
        "    param.requires_grad = False\n",
        "    count += 1\n",
        "    if count >=7 :\n",
        "        break"
      ],
      "execution_count": 0,
      "outputs": []
    },
    {
      "cell_type": "code",
      "metadata": {
        "id": "nz51CwVdn_Cy",
        "colab_type": "code",
        "colab": {}
      },
      "source": [
        "# if torch.cuda.is_available():\n",
        "#     BClassifier = BClassifier.cuda()\n",
        "\n",
        "criterion = nn.CrossEntropyLoss()\n",
        "optimizer = optim.SGD(filter(lambda p: p.requires_grad, model.parameters()), lr=LR, momentum=0.9)"
      ],
      "execution_count": 0,
      "outputs": []
    },
    {
      "cell_type": "markdown",
      "metadata": {
        "id": "JCHzvei4OeH1",
        "colab_type": "text"
      },
      "source": [
        "### GAN Model"
      ]
    },
    {
      "cell_type": "code",
      "metadata": {
        "id": "iQ_zlDxLKdah",
        "colab_type": "code",
        "outputId": "0c3c0433-0c3f-41bb-ce77-a86c8afc3cac",
        "colab": {
          "base_uri": "https://localhost:8080/",
          "height": 51
        }
      },
      "source": [
        "from __future__ import print_function\n",
        "%matplotlib inline\n",
        "import argparse\n",
        "import os\n",
        "import random\n",
        "import torch\n",
        "import torch.nn as nn\n",
        "import torch.nn.parallel\n",
        "import torch.backends.cudnn as cudnn\n",
        "import torch.optim as optim\n",
        "import torch.utils.data\n",
        "import torchvision.datasets as dset\n",
        "import torchvision.transforms as transforms\n",
        "import torchvision.utils as vutils\n",
        "import numpy as np\n",
        "import matplotlib.pyplot as plt\n",
        "import matplotlib.animation as animation\n",
        "from IPython.display import HTML\n",
        "\n",
        "# Set random seem for reproducibility\n",
        "manualSeed = 999\n",
        "#manualSeed = random.randint(1, 10000) # use if you want new results\n",
        "print(\"Random Seed: \", manualSeed)\n",
        "random.seed(manualSeed)\n",
        "torch.manual_seed(manualSeed)"
      ],
      "execution_count": 14,
      "outputs": [
        {
          "output_type": "stream",
          "text": [
            "Random Seed:  999\n"
          ],
          "name": "stdout"
        },
        {
          "output_type": "execute_result",
          "data": {
            "text/plain": [
              "<torch._C.Generator at 0x7f7dec8d7730>"
            ]
          },
          "metadata": {
            "tags": []
          },
          "execution_count": 14
        }
      ]
    },
    {
      "cell_type": "code",
      "metadata": {
        "id": "p1qxrmgdKCEe",
        "colab_type": "code",
        "colab": {}
      },
      "source": [
        "# Root directory for dataset\n",
        "dataroot = \"/content/gdrive/My Drive/Colab Notebooks/LJSpeech-1.1/\"\n",
        "\n",
        "# Number of workers for dataloader\n",
        "workers = 2\n",
        "\n",
        "# Batch size during training\n",
        "batch_size = 1\n",
        "\n",
        "# Spatial size of training images. All images will be resized to this\n",
        "#   size using a transformer.\n",
        "image_size = 64\n",
        "\n",
        "# Number of channels in the training images. For color images this is 3\n",
        "nc = 3\n",
        "\n",
        "# Size of z latent vector (i.e. size of generator input)\n",
        "nz = 100\n",
        "\n",
        "# Size of feature maps in generator\n",
        "ngf = 64\n",
        "\n",
        "# Size of feature maps in discriminator\n",
        "ndf = 64\n",
        "\n",
        "# Number of training epochs\n",
        "num_epochs = 1\n",
        "\n",
        "# Learning rate for optimizers\n",
        "lr = 0.0002\n",
        "\n",
        "# Beta1 hyperparam for Adam optimizers\n",
        "beta1 = 0.5\n",
        "\n",
        "# Number of GPUs available. Use 0 for CPU mode.\n",
        "ngpu = 1"
      ],
      "execution_count": 0,
      "outputs": []
    },
    {
      "cell_type": "code",
      "metadata": {
        "id": "lryXvpvGKBpp",
        "colab_type": "code",
        "colab": {}
      },
      "source": [
        "\n",
        "# Decide which device we want to run on\n",
        "device = torch.device(\"cuda:0\" if (torch.cuda.is_available() and ngpu > 0) else \"cpu\")\n"
      ],
      "execution_count": 0,
      "outputs": []
    },
    {
      "cell_type": "code",
      "metadata": {
        "id": "L2h5XVavKrRS",
        "colab_type": "code",
        "colab": {}
      },
      "source": [
        "# We can use an image folder dataset the way we have it setup.\n",
        "# Create the dataset\n",
        "dataset = dset.ImageFolder(root=dataroot,\n",
        "                           transform=transforms.Compose([\n",
        "                              \n",
        "                               transforms.CenterCrop(image_size),\n",
        "                               transforms.ToTensor(),\n",
        "                               transforms.Normalize((0.5, 0.5, 0.5), (0.5, 0.5, 0.5)),\n",
        "                           ]))\n",
        "\n",
        "# Create the dataloader\n",
        "dataloader = torch.utils.data.DataLoader(dataset, batch_size=batch_size,\n",
        "                                         shuffle=True, num_workers=workers)\n",
        "\n"
      ],
      "execution_count": 0,
      "outputs": []
    },
    {
      "cell_type": "code",
      "metadata": {
        "id": "mOXPnDSCK1w1",
        "colab_type": "code",
        "colab": {}
      },
      "source": [
        "# custom weights initialization called on netG and netD\n",
        "def weights_init(m):\n",
        "    classname = m.__class__.__name__\n",
        "    if classname.find('Conv') != -1:\n",
        "        nn.init.normal_(m.weight.data, 0.0, 0.02)\n",
        "    elif classname.find('BatchNorm') != -1:\n",
        "        nn.init.normal_(m.weight.data, 1.0, 0.02)\n",
        "        nn.init.constant_(m.bias.data, 0)"
      ],
      "execution_count": 0,
      "outputs": []
    },
    {
      "cell_type": "code",
      "metadata": {
        "id": "1IQL8gfWK6xB",
        "colab_type": "code",
        "colab": {}
      },
      "source": [
        "# Generator Code\n",
        "\n",
        "class Generator(nn.Module):\n",
        "    def __init__(self, ngpu):\n",
        "        super(Generator, self).__init__()\n",
        "        self.ngpu = ngpu\n",
        "        self.main = nn.Sequential(\n",
        "            # input is Z, going into a convolution\n",
        "            nn.ConvTranspose2d( nz, ngf * 8, 4, 1, 0, bias=False),\n",
        "            nn.BatchNorm2d(ngf * 8),\n",
        "            nn.ReLU(True),\n",
        "            # state size. (ngf*8) x 4 x 4\n",
        "            nn.ConvTranspose2d(ngf * 8, ngf * 4, 4, 2, 1, bias=False),\n",
        "            nn.BatchNorm2d(ngf * 4),\n",
        "            nn.ReLU(True),\n",
        "            # state size. (ngf*4) x 8 x 8\n",
        "            nn.ConvTranspose2d( ngf * 4, ngf * 2, 4, 2, 1, bias=False),\n",
        "            nn.BatchNorm2d(ngf * 2),\n",
        "            nn.ReLU(True),\n",
        "            # state size. (ngf*2) x 16 x 16\n",
        "            nn.ConvTranspose2d( ngf * 2, ngf, 4, 2, 1, bias=False),\n",
        "            nn.BatchNorm2d(ngf),\n",
        "            nn.ReLU(True),\n",
        "            # state size. (ngf) x 32 x 32\n",
        "            nn.ConvTranspose2d( ngf, nc, 4, 2, 1, bias=False),\n",
        "            nn.Tanh()\n",
        "            # state size. (nc) x 64 x 64\n",
        "        )\n",
        "\n",
        "    def forward(self, input):\n",
        "        return self.main(input)"
      ],
      "execution_count": 0,
      "outputs": []
    },
    {
      "cell_type": "code",
      "metadata": {
        "id": "cxgzbPLlK6vO",
        "colab_type": "code",
        "outputId": "cfbbd23a-a184-4125-9961-afa2395ecbf1",
        "colab": {
          "base_uri": "https://localhost:8080/",
          "height": 323
        }
      },
      "source": [
        "# Create the generator\n",
        "netG = Generator(ngpu).to(device)\n",
        "\n",
        "# Handle multi-gpu if desired\n",
        "if (device.type == 'cuda') and (ngpu > 1):\n",
        "    netG = nn.DataParallel(netG, list(range(ngpu)))\n",
        "\n",
        "# Apply the weights_init function to randomly initialize all weights\n",
        "#  to mean=0, stdev=0.2.\n",
        "netG.apply(weights_init)\n",
        "\n",
        "# Print the model\n",
        "print(netG)"
      ],
      "execution_count": 20,
      "outputs": [
        {
          "output_type": "stream",
          "text": [
            "Generator(\n",
            "  (main): Sequential(\n",
            "    (0): ConvTranspose2d(100, 512, kernel_size=(4, 4), stride=(1, 1), bias=False)\n",
            "    (1): BatchNorm2d(512, eps=1e-05, momentum=0.1, affine=True, track_running_stats=True)\n",
            "    (2): ReLU(inplace)\n",
            "    (3): ConvTranspose2d(512, 256, kernel_size=(4, 4), stride=(2, 2), padding=(1, 1), bias=False)\n",
            "    (4): BatchNorm2d(256, eps=1e-05, momentum=0.1, affine=True, track_running_stats=True)\n",
            "    (5): ReLU(inplace)\n",
            "    (6): ConvTranspose2d(256, 128, kernel_size=(4, 4), stride=(2, 2), padding=(1, 1), bias=False)\n",
            "    (7): BatchNorm2d(128, eps=1e-05, momentum=0.1, affine=True, track_running_stats=True)\n",
            "    (8): ReLU(inplace)\n",
            "    (9): ConvTranspose2d(128, 64, kernel_size=(4, 4), stride=(2, 2), padding=(1, 1), bias=False)\n",
            "    (10): BatchNorm2d(64, eps=1e-05, momentum=0.1, affine=True, track_running_stats=True)\n",
            "    (11): ReLU(inplace)\n",
            "    (12): ConvTranspose2d(64, 3, kernel_size=(4, 4), stride=(2, 2), padding=(1, 1), bias=False)\n",
            "    (13): Tanh()\n",
            "  )\n",
            ")\n"
          ],
          "name": "stdout"
        }
      ]
    },
    {
      "cell_type": "code",
      "metadata": {
        "id": "y7oaIhmvK6tC",
        "colab_type": "code",
        "colab": {}
      },
      "source": [
        "class Discriminator(nn.Module):\n",
        "    def __init__(self, ngpu):\n",
        "        super(Discriminator, self).__init__()\n",
        "        self.ngpu = ngpu\n",
        "        self.main = nn.Sequential(\n",
        "            # input is (nc) x 64 x 64\n",
        "            nn.Conv2d(nc, ndf, 4, 2, 1, bias=False),\n",
        "            nn.LeakyReLU(0.2, inplace=True),\n",
        "            # state size. (ndf) x 32 x 32\n",
        "            nn.Conv2d(ndf, ndf * 2, 4, 2, 1, bias=False),\n",
        "            nn.BatchNorm2d(ndf * 2),\n",
        "            nn.LeakyReLU(0.2, inplace=True),\n",
        "            # state size. (ndf*2) x 16 x 16\n",
        "            nn.Conv2d(ndf * 2, ndf * 4, 4, 2, 1, bias=False),\n",
        "            nn.BatchNorm2d(ndf * 4),\n",
        "            nn.LeakyReLU(0.2, inplace=True),\n",
        "            # state size. (ndf*4) x 8 x 8\n",
        "            nn.Conv2d(ndf * 4, ndf * 8, 4, 2, 1, bias=False),\n",
        "            nn.BatchNorm2d(ndf * 8),\n",
        "            nn.LeakyReLU(0.2, inplace=True),\n",
        "            # state size. (ndf*8) x 4 x 4\n",
        "            nn.Conv2d(ndf * 8, 1, 4, 1, 0, bias=False),\n",
        "            nn.Sigmoid()\n",
        "        )\n",
        "\n",
        "    def forward(self, input):\n",
        "        return self.main(input)"
      ],
      "execution_count": 0,
      "outputs": []
    },
    {
      "cell_type": "code",
      "metadata": {
        "id": "oKlBeXuzK6qm",
        "colab_type": "code",
        "outputId": "34efd16c-1073-43cf-f22d-e72ca3265371",
        "colab": {
          "base_uri": "https://localhost:8080/",
          "height": 306
        }
      },
      "source": [
        "# Create the Discriminator\n",
        "netD = Discriminator(ngpu).to(device)\n",
        "\n",
        "# Handle multi-gpu if desired\n",
        "if (device.type == 'cuda') and (ngpu > 1):\n",
        "    netD = nn.DataParallel(netD, list(range(ngpu)))\n",
        "    \n",
        "# Apply the weights_init function to randomly initialize all weights\n",
        "#  to mean=0, stdev=0.2.\n",
        "netD.apply(weights_init)\n",
        "\n",
        "# Print the model\n",
        "print(netD)"
      ],
      "execution_count": 22,
      "outputs": [
        {
          "output_type": "stream",
          "text": [
            "Discriminator(\n",
            "  (main): Sequential(\n",
            "    (0): Conv2d(3, 64, kernel_size=(4, 4), stride=(2, 2), padding=(1, 1), bias=False)\n",
            "    (1): LeakyReLU(negative_slope=0.2, inplace)\n",
            "    (2): Conv2d(64, 128, kernel_size=(4, 4), stride=(2, 2), padding=(1, 1), bias=False)\n",
            "    (3): BatchNorm2d(128, eps=1e-05, momentum=0.1, affine=True, track_running_stats=True)\n",
            "    (4): LeakyReLU(negative_slope=0.2, inplace)\n",
            "    (5): Conv2d(128, 256, kernel_size=(4, 4), stride=(2, 2), padding=(1, 1), bias=False)\n",
            "    (6): BatchNorm2d(256, eps=1e-05, momentum=0.1, affine=True, track_running_stats=True)\n",
            "    (7): LeakyReLU(negative_slope=0.2, inplace)\n",
            "    (8): Conv2d(256, 512, kernel_size=(4, 4), stride=(2, 2), padding=(1, 1), bias=False)\n",
            "    (9): BatchNorm2d(512, eps=1e-05, momentum=0.1, affine=True, track_running_stats=True)\n",
            "    (10): LeakyReLU(negative_slope=0.2, inplace)\n",
            "    (11): Conv2d(512, 1, kernel_size=(4, 4), stride=(1, 1), bias=False)\n",
            "    (12): Sigmoid()\n",
            "  )\n",
            ")\n"
          ],
          "name": "stdout"
        }
      ]
    },
    {
      "cell_type": "code",
      "metadata": {
        "id": "KU4AV92LK6oQ",
        "colab_type": "code",
        "colab": {}
      },
      "source": [
        "criterion = nn.BCELoss()\n",
        "\n",
        "# Create batch of latent vectors that we will use to visualize\n",
        "#  the progression of the generator\n",
        "fixed_noise = torch.randn(64, nz, 1, 1, device=device)\n",
        "\n",
        "# Establish convention for real and fake labels during training\n",
        "real_label = 1\n",
        "fake_label = 0\n",
        "\n",
        "# Setup Adam optimizers for both G and D\n",
        "optimizerD = optim.Adam(netD.parameters(), lr=lr, betas=(beta1, 0.999))\n",
        "optimizerG = optim.Adam(netG.parameters(), lr=lr, betas=(beta1, 0.999))"
      ],
      "execution_count": 0,
      "outputs": []
    },
    {
      "cell_type": "code",
      "metadata": {
        "id": "nFBsgK-AgGW9",
        "colab_type": "code",
        "colab": {}
      },
      "source": [
        "!rm -r  /content/gdrive/My\\ Drive/Colab\\ Notebooks/LJSpeech-1.1/spectrograms\n",
        "!mkdir /content/gdrive/My\\ Drive/Colab\\ Notebooks/LJSpeech-1.1/spectrograms"
      ],
      "execution_count": 0,
      "outputs": []
    },
    {
      "cell_type": "code",
      "metadata": {
        "id": "dHW8rwkKqVb_",
        "colab_type": "code",
        "colab": {}
      },
      "source": [
        "!touch /content/gdrive/My\\ Drive/Colab\\ Notebooks/discriminator.pt\n",
        "!touch /content/gdrive/My\\ Drive/Colab\\ Notebooks/generator.pt"
      ],
      "execution_count": 0,
      "outputs": []
    },
    {
      "cell_type": "code",
      "metadata": {
        "id": "eXWNYK3MK6mA",
        "colab_type": "code",
        "outputId": "4b82ad2b-50f2-47db-f59a-e16f84c7d23f",
        "colab": {
          "base_uri": "https://localhost:8080/",
          "height": 102
        }
      },
      "source": [
        "# Training Loop\n",
        "\n",
        "# Lists to keep track of progress\n",
        "img_list = []\n",
        "G_losses = []\n",
        "D_losses = []\n",
        "iters = 0\n",
        "\n",
        "print(\"Starting Training Loop...\")\n",
        "# For each epoch\n",
        "for epoch in range(num_epochs):\n",
        "    dataset_size = min(len(sentences),len(real_dataset))\n",
        "\n",
        "    for c in range(0,dataset_size):\n",
        "      get_real()\n",
        "      get_fake()\n",
        "      \n",
        "      # We can use an image folder dataset the way we have it setup.\n",
        "      # Create the dataset\n",
        "      dataset = dset.ImageFolder(root=dataroot,\n",
        "                                 transform=transforms.Compose([\n",
        "                                     transforms.Resize((image_size,image_size)),\n",
        "                                     transforms.ToTensor(),\n",
        "                                 ]))\n",
        "\n",
        "      # Create the dataloader\n",
        "      dataloader = torch.utils.data.DataLoader(dataset, batch_size=batch_size,\n",
        "                                               shuffle=True, num_workers=workers)\n",
        "  \n",
        "      # For each batch in the dataloader\n",
        "      for i,data in enumerate(dataloader,0):\n",
        "\n",
        "          ############################\n",
        "          # (1) Update D network: maximize log(D(x)) + log(1 - D(G(z)))\n",
        "          ###########################\n",
        "          ## Train with all-real batch\n",
        "        if i==0:         \n",
        "          netD.zero_grad()\n",
        "          # Format batch\n",
        "          real_cpu = data[0].to(device)\n",
        "          b_size = real_cpu.size(0)\n",
        "          #b_size = 10\n",
        "          label = torch.full((b_size,), real_label, device=device)\n",
        "          # Forward pass real batch through D\n",
        "          output = netD(real_cpu).view(-1)\n",
        "          # Calculate loss on all-real batch\n",
        "          errD_real = criterion(output, label)\n",
        "          # Calculate gradients for D in backward pass\n",
        "          errD_real.backward()\n",
        "          D_x = output.mean().item()\n",
        "\n",
        "        if (i==1):\n",
        "          print(data[0].shape)\n",
        "          ## Train with all-fake batch\n",
        "          # Generate batch of latent vectors\n",
        "          noise = torch.randn(b_size, nz, 1, 1, device=device)\n",
        "          # Generate fake image batch with G\n",
        "          fake_noise = netG(noise)\n",
        "          fake_deepvoice=data[0].to(device)\n",
        "          fake = fake_noise + fake_deepvoice\n",
        "          label.fill_(fake_label)\n",
        "          # Classify all fake batch with D\n",
        "          output = netD(fake.detach()).view(-1)\n",
        "          # Calculate D's loss on the all-fake batch\n",
        "          errD_fake = criterion(output, label)\n",
        "          # Calculate the gradients for this batch\n",
        "          errD_fake.backward()\n",
        "          D_G_z1 = output.mean().item()\n",
        "          # Add the gradients from the all-real and all-fake batches\n",
        "          errD = errD_real + errD_fake\n",
        "          # Update D\n",
        "          optimizerD.step()\n",
        "\n",
        "          \n",
        "          state1 = {\n",
        "              'c': epoch,\n",
        "              'state_dict': netD.state_dict(),\n",
        "              'optimizer': optimizerD.state_dict(),\n",
        "          }\n",
        "          torch.save(state1, '/content/gdrive/My Drive/Colab Notebooks/discriminator.pt')\n",
        "\n",
        "\n",
        "\n",
        "            ############################\n",
        "            # (2) Update G network: maximize log(D(G(z)))\n",
        "            ###########################\n",
        "          #netG.zero_grad()\n",
        "          label.fill_(real_label)  # fake labels are real for generator cost\n",
        "          # Since we just updated D, perform another forward pass of all-fake batch through D\n",
        "          output = netD(fake_noise).view(-1)\n",
        "          # Calculate G's loss based on this output\n",
        "          \n",
        "          errG = criterion(output, label)\n",
        "          # Calculate gradients for G\n",
        "          errG.backward()\n",
        "          D_G_z2 = output.mean().item()\n",
        "          # Update G\n",
        "          optimizerG.step()\n",
        "          \n",
        "          state2 = {\n",
        "              'c': epoch,\n",
        "              'state_dict': netG.state_dict(),\n",
        "              'optimizer': optimizerG.state_dict(),\n",
        "          }\n",
        "          torch.save(state1, '/content/gdrive/My Drive/Colab Notebooks/generator.pt')\n",
        "\n",
        "          \n",
        "\n",
        "          # Output training stats\n",
        "          print('[%d/%d][%d/%d]\\tLoss_D: %.4f\\tLoss_G: %.4f\\tD(x): %.4f\\tD(G(z)): %.4f / %.4f'\n",
        "                    % (c, dataset_size, i+1, len(dataloader),\n",
        "                       errD.item(), errG.item(), D_x, D_G_z1, D_G_z2))\n",
        "\n",
        "          # Save Losses for plotting later\n",
        "          G_losses.append(errG.item())\n",
        "          D_losses.append(errD.item())\n",
        "\n",
        "          # Check how the generator is doing by saving G's output on fixed_noise\n",
        "          if (iters % 500 == 0) or ((epoch == num_epochs-1) and (i == len(dataloader)-1)):\n",
        "              with torch.no_grad():\n",
        "                  fake = netG(fixed_noise).detach().cpu()\n",
        "              img_list.append(vutils.make_grid(fake, padding=2, normalize=True))\n",
        "\n",
        "          iters += 1"
      ],
      "execution_count": 53,
      "outputs": [
        {
          "output_type": "stream",
          "text": [
            "Starting Training Loop...\n"
          ],
          "name": "stdout"
        },
        {
          "output_type": "stream",
          "text": [
            "/usr/local/lib/python3.6/dist-packages/torch/nn/functional.py:1386: UserWarning: nn.functional.sigmoid is deprecated. Use torch.sigmoid instead.\n",
            "  warnings.warn(\"nn.functional.sigmoid is deprecated. Use torch.sigmoid instead.\")\n"
          ],
          "name": "stderr"
        },
        {
          "output_type": "stream",
          "text": [
            "torch.Size([1, 3, 64, 64])\n",
            "[0/13100][2/2]\tLoss_D: 1.2063\tLoss_G: 1.2790\tD(x): 0.3029\tD(G(z)): 0.0119 / 0.2783\n"
          ],
          "name": "stdout"
        }
      ]
    },
    {
      "cell_type": "code",
      "metadata": {
        "id": "RiPVojC3pxd2",
        "colab_type": "code",
        "colab": {}
      },
      "source": [
        ""
      ],
      "execution_count": 0,
      "outputs": []
    }
  ]
}